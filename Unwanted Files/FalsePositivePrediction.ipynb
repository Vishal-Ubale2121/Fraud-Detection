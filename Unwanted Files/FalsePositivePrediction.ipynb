{
 "cells": [
  {
   "cell_type": "code",
   "execution_count": 1,
   "id": "a6e7c0d1",
   "metadata": {},
   "outputs": [],
   "source": [
    "import numpy as np\n",
    "import pandas as pd\n",
    "from tensorflow.keras.preprocessing.text import Tokenizer\n",
    "import matplotlib.pyplot as plt\n",
    "%matplotlib inline\n",
    "import seaborn as sns\n",
    "import pycountry as pyc\n",
    "from sklearn.model_selection import train_test_split\n",
    "from sklearn.linear_model import LogisticRegression\n",
    "from sklearn.tree import DecisionTreeClassifier\n",
    "from sklearn.model_selection import GridSearchCV\n",
    "from sklearn.ensemble import RandomForestClassifier"
   ]
  },
  {
   "cell_type": "markdown",
   "id": "95c60be8",
   "metadata": {},
   "source": [
    "### Read data from the dataset"
   ]
  },
  {
   "cell_type": "code",
   "execution_count": 2,
   "id": "c8465ae9",
   "metadata": {
    "scrolled": true
   },
   "outputs": [
    {
     "data": {
      "text/html": [
       "<div>\n",
       "<style scoped>\n",
       "    .dataframe tbody tr th:only-of-type {\n",
       "        vertical-align: middle;\n",
       "    }\n",
       "\n",
       "    .dataframe tbody tr th {\n",
       "        vertical-align: top;\n",
       "    }\n",
       "\n",
       "    .dataframe thead th {\n",
       "        text-align: right;\n",
       "    }\n",
       "</style>\n",
       "<table border=\"1\" class=\"dataframe\">\n",
       "  <thead>\n",
       "    <tr style=\"text-align: right;\">\n",
       "      <th></th>\n",
       "      <th>Customer_ID</th>\n",
       "      <th>First_Name</th>\n",
       "      <th>Last_Name</th>\n",
       "      <th>DOB</th>\n",
       "      <th>Customer_Type</th>\n",
       "      <th>PAN</th>\n",
       "      <th>Date_of_joining</th>\n",
       "      <th>Date_of_exit</th>\n",
       "      <th>Deceased_Flag</th>\n",
       "      <th>Gender</th>\n",
       "      <th>Martial_Status</th>\n",
       "      <th>PEP_Flag</th>\n",
       "      <th>CTF_Flag</th>\n",
       "      <th>Country_of_residence</th>\n",
       "      <th>Country_of_Origin</th>\n",
       "      <th>Fraud</th>\n",
       "    </tr>\n",
       "  </thead>\n",
       "  <tbody>\n",
       "    <tr>\n",
       "      <th>0</th>\n",
       "      <td>8606</td>\n",
       "      <td>RADDULAN</td>\n",
       "      <td>SAHIRON</td>\n",
       "      <td>21-05-1989</td>\n",
       "      <td>1</td>\n",
       "      <td>616802609</td>\n",
       "      <td>27-10-2008</td>\n",
       "      <td>03-06-2015</td>\n",
       "      <td>True</td>\n",
       "      <td>M</td>\n",
       "      <td>Married</td>\n",
       "      <td>False</td>\n",
       "      <td>False</td>\n",
       "      <td>Philippines</td>\n",
       "      <td>Philippines</td>\n",
       "      <td>Fraud</td>\n",
       "    </tr>\n",
       "    <tr>\n",
       "      <th>1</th>\n",
       "      <td>6462</td>\n",
       "      <td>AHMED</td>\n",
       "      <td>ABDULLAH</td>\n",
       "      <td>04-02-1963</td>\n",
       "      <td>1</td>\n",
       "      <td>868739475</td>\n",
       "      <td>18-04-2009</td>\n",
       "      <td>09-12-2019</td>\n",
       "      <td>True</td>\n",
       "      <td>M</td>\n",
       "      <td>Married</td>\n",
       "      <td>False</td>\n",
       "      <td>True</td>\n",
       "      <td>Egypt</td>\n",
       "      <td>Egypt</td>\n",
       "      <td>Fraud</td>\n",
       "    </tr>\n",
       "    <tr>\n",
       "      <th>2</th>\n",
       "      <td>9574</td>\n",
       "      <td>HASAN</td>\n",
       "      <td>IZZALDIN</td>\n",
       "      <td>24-04-1963</td>\n",
       "      <td>2</td>\n",
       "      <td>544436596</td>\n",
       "      <td>18-07-2003</td>\n",
       "      <td>23-07-2020</td>\n",
       "      <td>True</td>\n",
       "      <td>M</td>\n",
       "      <td>Married</td>\n",
       "      <td>False</td>\n",
       "      <td>False</td>\n",
       "      <td>Turkey</td>\n",
       "      <td>Kenya</td>\n",
       "      <td>Fraud</td>\n",
       "    </tr>\n",
       "    <tr>\n",
       "      <th>3</th>\n",
       "      <td>5350</td>\n",
       "      <td>AHLAM</td>\n",
       "      <td>AlTAMIMI</td>\n",
       "      <td>14-04-1980</td>\n",
       "      <td>3</td>\n",
       "      <td>212184907</td>\n",
       "      <td>17-11-2013</td>\n",
       "      <td>28-08-2011</td>\n",
       "      <td>False</td>\n",
       "      <td>F</td>\n",
       "      <td>Not Married</td>\n",
       "      <td>True</td>\n",
       "      <td>True</td>\n",
       "      <td>Turkey</td>\n",
       "      <td>Jordan</td>\n",
       "      <td>Fraud</td>\n",
       "    </tr>\n",
       "    <tr>\n",
       "      <th>4</th>\n",
       "      <td>8903</td>\n",
       "      <td>RAMADAN</td>\n",
       "      <td>SHALLAH</td>\n",
       "      <td>01-01-1958</td>\n",
       "      <td>2</td>\n",
       "      <td>849660885</td>\n",
       "      <td>10-04-2020</td>\n",
       "      <td>04-02-2014</td>\n",
       "      <td>False</td>\n",
       "      <td>M</td>\n",
       "      <td>Married</td>\n",
       "      <td>True</td>\n",
       "      <td>True</td>\n",
       "      <td>Gaza Strip</td>\n",
       "      <td>Gaza Strip</td>\n",
       "      <td>Fraud</td>\n",
       "    </tr>\n",
       "    <tr>\n",
       "      <th>5</th>\n",
       "      <td>9405</td>\n",
       "      <td>ABDELKARIM</td>\n",
       "      <td>MOHAMED</td>\n",
       "      <td>21-08-1986</td>\n",
       "      <td>2</td>\n",
       "      <td>843535347</td>\n",
       "      <td>26-08-2001</td>\n",
       "      <td>10-06-2020</td>\n",
       "      <td>True</td>\n",
       "      <td>M</td>\n",
       "      <td>Not Married</td>\n",
       "      <td>False</td>\n",
       "      <td>False</td>\n",
       "      <td>Syria</td>\n",
       "      <td>SauDiArabia</td>\n",
       "      <td>Fraud</td>\n",
       "    </tr>\n",
       "    <tr>\n",
       "      <th>6</th>\n",
       "      <td>6231</td>\n",
       "      <td>JOANNE</td>\n",
       "      <td>CHESIMARD</td>\n",
       "      <td>02-10-1952</td>\n",
       "      <td>2</td>\n",
       "      <td>422261413</td>\n",
       "      <td>30-01-2020</td>\n",
       "      <td>15-06-2013</td>\n",
       "      <td>False</td>\n",
       "      <td>M</td>\n",
       "      <td>Married</td>\n",
       "      <td>False</td>\n",
       "      <td>False</td>\n",
       "      <td>Indonesia</td>\n",
       "      <td>China</td>\n",
       "      <td>Fraud</td>\n",
       "    </tr>\n",
       "    <tr>\n",
       "      <th>7</th>\n",
       "      <td>5738</td>\n",
       "      <td>ALI</td>\n",
       "      <td>ATWA</td>\n",
       "      <td>17-10-1988</td>\n",
       "      <td>1</td>\n",
       "      <td>642127930</td>\n",
       "      <td>12-05-2015</td>\n",
       "      <td>12-05-2007</td>\n",
       "      <td>False</td>\n",
       "      <td>M</td>\n",
       "      <td>Married</td>\n",
       "      <td>False</td>\n",
       "      <td>True</td>\n",
       "      <td>China</td>\n",
       "      <td>Indonesia</td>\n",
       "      <td>Fraud</td>\n",
       "    </tr>\n",
       "    <tr>\n",
       "      <th>8</th>\n",
       "      <td>8954</td>\n",
       "      <td>SAIF</td>\n",
       "      <td>ADEL</td>\n",
       "      <td>02-02-1963</td>\n",
       "      <td>1</td>\n",
       "      <td>490435667</td>\n",
       "      <td>16-07-2015</td>\n",
       "      <td>13-01-2009</td>\n",
       "      <td>True</td>\n",
       "      <td>M</td>\n",
       "      <td>Married</td>\n",
       "      <td>True</td>\n",
       "      <td>False</td>\n",
       "      <td>Egypt</td>\n",
       "      <td>Honduras</td>\n",
       "      <td>Fraud</td>\n",
       "    </tr>\n",
       "    <tr>\n",
       "      <th>9</th>\n",
       "      <td>7037</td>\n",
       "      <td>AYMAN</td>\n",
       "      <td>ZAWAHIRI</td>\n",
       "      <td>03-09-1951</td>\n",
       "      <td>1</td>\n",
       "      <td>404226711</td>\n",
       "      <td>17-01-2008</td>\n",
       "      <td>31-08-2007</td>\n",
       "      <td>True</td>\n",
       "      <td>M</td>\n",
       "      <td>Not Married</td>\n",
       "      <td>False</td>\n",
       "      <td>True</td>\n",
       "      <td>Iraq</td>\n",
       "      <td>Pakistan</td>\n",
       "      <td>Fraud</td>\n",
       "    </tr>\n",
       "  </tbody>\n",
       "</table>\n",
       "</div>"
      ],
      "text/plain": [
       "   Customer_ID  First_Name  Last_Name         DOB  Customer_Type        PAN  \\\n",
       "0         8606    RADDULAN    SAHIRON  21-05-1989              1  616802609   \n",
       "1         6462       AHMED   ABDULLAH  04-02-1963              1  868739475   \n",
       "2         9574       HASAN   IZZALDIN  24-04-1963              2  544436596   \n",
       "3         5350       AHLAM   AlTAMIMI  14-04-1980              3  212184907   \n",
       "4         8903     RAMADAN    SHALLAH  01-01-1958              2  849660885   \n",
       "5         9405  ABDELKARIM    MOHAMED  21-08-1986              2  843535347   \n",
       "6         6231      JOANNE  CHESIMARD  02-10-1952              2  422261413   \n",
       "7         5738         ALI       ATWA  17-10-1988              1  642127930   \n",
       "8         8954        SAIF       ADEL  02-02-1963              1  490435667   \n",
       "9         7037       AYMAN   ZAWAHIRI  03-09-1951              1  404226711   \n",
       "\n",
       "  Date_of_joining Date_of_exit  Deceased_Flag Gender Martial_Status  PEP_Flag  \\\n",
       "0      27-10-2008   03-06-2015           True      M        Married     False   \n",
       "1      18-04-2009   09-12-2019           True      M        Married     False   \n",
       "2      18-07-2003   23-07-2020           True      M        Married     False   \n",
       "3      17-11-2013   28-08-2011          False      F    Not Married      True   \n",
       "4      10-04-2020   04-02-2014          False      M        Married      True   \n",
       "5      26-08-2001   10-06-2020           True      M    Not Married     False   \n",
       "6      30-01-2020   15-06-2013          False      M        Married     False   \n",
       "7      12-05-2015   12-05-2007          False      M        Married     False   \n",
       "8      16-07-2015   13-01-2009           True      M        Married      True   \n",
       "9      17-01-2008   31-08-2007           True      M    Not Married     False   \n",
       "\n",
       "   CTF_Flag Country_of_residence Country_of_Origin  Fraud  \n",
       "0     False          Philippines       Philippines  Fraud  \n",
       "1      True                Egypt             Egypt  Fraud  \n",
       "2     False               Turkey             Kenya  Fraud  \n",
       "3      True               Turkey            Jordan  Fraud  \n",
       "4      True           Gaza Strip        Gaza Strip  Fraud  \n",
       "5     False                Syria       SauDiArabia  Fraud  \n",
       "6     False            Indonesia             China  Fraud  \n",
       "7      True                China         Indonesia  Fraud  \n",
       "8     False                Egypt          Honduras  Fraud  \n",
       "9      True                 Iraq          Pakistan  Fraud  "
      ]
     },
     "execution_count": 2,
     "metadata": {},
     "output_type": "execute_result"
    }
   ],
   "source": [
    "df=pd.read_csv('Customers_File.csv', delimiter=',')\n",
    "df.head(10)"
   ]
  },
  {
   "cell_type": "markdown",
   "id": "622ae24b",
   "metadata": {},
   "source": [
    "# Data Preprocessing\n",
    "\n",
    "1. Converting the non numeric columns into numeric columns for the Machine Learning model's understanding.\n",
    "2. Dropping the unique columns acting as keys to the data.\n",
    "3. Splitting date columns to convert them into numeric columns"
   ]
  },
  {
   "cell_type": "markdown",
   "id": "d83fb607",
   "metadata": {},
   "source": [
    "## Converting Dependent variable into number"
   ]
  },
  {
   "cell_type": "code",
   "execution_count": 3,
   "id": "9713f8c7",
   "metadata": {},
   "outputs": [
    {
     "data": {
      "text/plain": [
       "0    1\n",
       "1    1\n",
       "2    1\n",
       "3    1\n",
       "4    1\n",
       "Name: Fraud, dtype: int64"
      ]
     },
     "execution_count": 3,
     "metadata": {},
     "output_type": "execute_result"
    }
   ],
   "source": [
    "df['Fraud'] = df['Fraud'].map({'Fraud':1, 'Not Fraud':0})\n",
    "df.Fraud.head()"
   ]
  },
  {
   "cell_type": "code",
   "execution_count": 4,
   "id": "2e492b1e",
   "metadata": {},
   "outputs": [
    {
     "name": "stdout",
     "output_type": "stream",
     "text": [
      "<class 'pandas.core.frame.DataFrame'>\n",
      "RangeIndex: 11000 entries, 0 to 10999\n",
      "Data columns (total 16 columns):\n",
      " #   Column                Non-Null Count  Dtype \n",
      "---  ------                --------------  ----- \n",
      " 0   Customer_ID           11000 non-null  int64 \n",
      " 1   First_Name            11000 non-null  object\n",
      " 2   Last_Name             11000 non-null  object\n",
      " 3   DOB                   11000 non-null  object\n",
      " 4   Customer_Type         11000 non-null  int64 \n",
      " 5   PAN                   11000 non-null  int64 \n",
      " 6   Date_of_joining       11000 non-null  object\n",
      " 7   Date_of_exit          11000 non-null  object\n",
      " 8   Deceased_Flag         11000 non-null  bool  \n",
      " 9   Gender                11000 non-null  object\n",
      " 10  Martial_Status        11000 non-null  object\n",
      " 11  PEP_Flag              11000 non-null  bool  \n",
      " 12  CTF_Flag              11000 non-null  bool  \n",
      " 13  Country_of_residence  11000 non-null  object\n",
      " 14  Country_of_Origin     11000 non-null  object\n",
      " 15  Fraud                 11000 non-null  int64 \n",
      "dtypes: bool(3), int64(4), object(9)\n",
      "memory usage: 1.1+ MB\n"
     ]
    }
   ],
   "source": [
    "df.info()"
   ]
  },
  {
   "cell_type": "code",
   "execution_count": 5,
   "id": "b3eff45d",
   "metadata": {},
   "outputs": [],
   "source": [
    "df = df.drop(['Customer_ID'], axis=1)\n",
    "df = df.drop(['PAN'], axis=1)"
   ]
  },
  {
   "cell_type": "markdown",
   "id": "f21756d7",
   "metadata": {},
   "source": [
    "## Converting Categorical Variables to Numbers"
   ]
  },
  {
   "cell_type": "code",
   "execution_count": 6,
   "id": "67344009",
   "metadata": {},
   "outputs": [],
   "source": [
    "df.Deceased_Flag= df.Deceased_Flag.map({True:1, False:0})\n",
    "df.Gender =df.Gender.map({'M':1, 'F':0})\n",
    "df.Martial_Status = df.Martial_Status.map({'Married':1,'Not Married':0})\n",
    "df.PEP_Flag = df.PEP_Flag.map({True:1, False:0})\n",
    "df.CTF_Flag = df.CTF_Flag.map({True:1, False:0})"
   ]
  },
  {
   "cell_type": "markdown",
   "id": "1556b647",
   "metadata": {},
   "source": [
    "## Splitting the date fields"
   ]
  },
  {
   "cell_type": "code",
   "execution_count": 7,
   "id": "dc926c4b",
   "metadata": {},
   "outputs": [],
   "source": [
    "# DOB\n",
    "df[['DD','MM','YY']]=df.DOB.str.split('-', expand=True)\n",
    "df[['DD','MM','YY']] = df[['DD','MM','YY']].astype(int)\n",
    "df.drop(['DOB'], axis=1, inplace= True)\n",
    "\n",
    "# Date_of_joining\n",
    "df[['DDj','MMj','YYj']] = df.Date_of_joining.str.split('-', expand=True)\n",
    "df[['DDj','MMj','YYj']] = df[['DDj','MMj','YYj']].astype(int)\n",
    "\n",
    "#Date_of_exit\n",
    "df[['DDe','MMe','YYe']] = df.Date_of_exit.str.split('-', expand=True)\n",
    "df[['DDe','MMe','YYe']] = df[['DDe','MMe','YYe']].astype(int)\n",
    "\n",
    "df.drop(['Date_of_joining', 'Date_of_exit'], axis=1, inplace= True)"
   ]
  },
  {
   "cell_type": "markdown",
   "id": "f0fed1af",
   "metadata": {},
   "source": [
    "## Tokenizing texts\n",
    "First Name and Last Name are key columns for our data analysis, converting them to numbers using tokenizer. The main purpose is to keep the model interpretable and using the tokenized values the result data set can be decrypted."
   ]
  },
  {
   "cell_type": "code",
   "execution_count": 8,
   "id": "4ebb01e8",
   "metadata": {},
   "outputs": [
    {
     "data": {
      "text/html": [
       "<div>\n",
       "<style scoped>\n",
       "    .dataframe tbody tr th:only-of-type {\n",
       "        vertical-align: middle;\n",
       "    }\n",
       "\n",
       "    .dataframe tbody tr th {\n",
       "        vertical-align: top;\n",
       "    }\n",
       "\n",
       "    .dataframe thead th {\n",
       "        text-align: right;\n",
       "    }\n",
       "</style>\n",
       "<table border=\"1\" class=\"dataframe\">\n",
       "  <thead>\n",
       "    <tr style=\"text-align: right;\">\n",
       "      <th></th>\n",
       "      <th>First_Name</th>\n",
       "      <th>Last_Name</th>\n",
       "      <th>Customer_Type</th>\n",
       "      <th>Deceased_Flag</th>\n",
       "      <th>Gender</th>\n",
       "      <th>Martial_Status</th>\n",
       "      <th>PEP_Flag</th>\n",
       "      <th>CTF_Flag</th>\n",
       "      <th>Country_of_residence</th>\n",
       "      <th>Country_of_Origin</th>\n",
       "      <th>Fraud</th>\n",
       "      <th>DD</th>\n",
       "      <th>MM</th>\n",
       "      <th>YY</th>\n",
       "      <th>DDj</th>\n",
       "      <th>MMj</th>\n",
       "      <th>YYj</th>\n",
       "      <th>DDe</th>\n",
       "      <th>MMe</th>\n",
       "      <th>YYe</th>\n",
       "    </tr>\n",
       "  </thead>\n",
       "  <tbody>\n",
       "    <tr>\n",
       "      <th>0</th>\n",
       "      <td>1230</td>\n",
       "      <td>1138</td>\n",
       "      <td>1</td>\n",
       "      <td>1</td>\n",
       "      <td>1</td>\n",
       "      <td>1</td>\n",
       "      <td>0</td>\n",
       "      <td>0</td>\n",
       "      <td>Philippines</td>\n",
       "      <td>Philippines</td>\n",
       "      <td>1</td>\n",
       "      <td>21</td>\n",
       "      <td>5</td>\n",
       "      <td>1989</td>\n",
       "      <td>27</td>\n",
       "      <td>10</td>\n",
       "      <td>2008</td>\n",
       "      <td>3</td>\n",
       "      <td>6</td>\n",
       "      <td>2015</td>\n",
       "    </tr>\n",
       "    <tr>\n",
       "      <th>1</th>\n",
       "      <td>9</td>\n",
       "      <td>1139</td>\n",
       "      <td>1</td>\n",
       "      <td>1</td>\n",
       "      <td>1</td>\n",
       "      <td>1</td>\n",
       "      <td>0</td>\n",
       "      <td>1</td>\n",
       "      <td>Egypt</td>\n",
       "      <td>Egypt</td>\n",
       "      <td>1</td>\n",
       "      <td>4</td>\n",
       "      <td>2</td>\n",
       "      <td>1963</td>\n",
       "      <td>18</td>\n",
       "      <td>4</td>\n",
       "      <td>2009</td>\n",
       "      <td>9</td>\n",
       "      <td>12</td>\n",
       "      <td>2019</td>\n",
       "    </tr>\n",
       "    <tr>\n",
       "      <th>2</th>\n",
       "      <td>1231</td>\n",
       "      <td>1140</td>\n",
       "      <td>2</td>\n",
       "      <td>1</td>\n",
       "      <td>1</td>\n",
       "      <td>1</td>\n",
       "      <td>0</td>\n",
       "      <td>0</td>\n",
       "      <td>Turkey</td>\n",
       "      <td>Kenya</td>\n",
       "      <td>1</td>\n",
       "      <td>24</td>\n",
       "      <td>4</td>\n",
       "      <td>1963</td>\n",
       "      <td>18</td>\n",
       "      <td>7</td>\n",
       "      <td>2003</td>\n",
       "      <td>23</td>\n",
       "      <td>7</td>\n",
       "      <td>2020</td>\n",
       "    </tr>\n",
       "    <tr>\n",
       "      <th>3</th>\n",
       "      <td>1232</td>\n",
       "      <td>1141</td>\n",
       "      <td>3</td>\n",
       "      <td>0</td>\n",
       "      <td>0</td>\n",
       "      <td>0</td>\n",
       "      <td>1</td>\n",
       "      <td>1</td>\n",
       "      <td>Turkey</td>\n",
       "      <td>Jordan</td>\n",
       "      <td>1</td>\n",
       "      <td>14</td>\n",
       "      <td>4</td>\n",
       "      <td>1980</td>\n",
       "      <td>17</td>\n",
       "      <td>11</td>\n",
       "      <td>2013</td>\n",
       "      <td>28</td>\n",
       "      <td>8</td>\n",
       "      <td>2011</td>\n",
       "    </tr>\n",
       "    <tr>\n",
       "      <th>4</th>\n",
       "      <td>1233</td>\n",
       "      <td>1142</td>\n",
       "      <td>2</td>\n",
       "      <td>0</td>\n",
       "      <td>1</td>\n",
       "      <td>1</td>\n",
       "      <td>1</td>\n",
       "      <td>1</td>\n",
       "      <td>Gaza Strip</td>\n",
       "      <td>Gaza Strip</td>\n",
       "      <td>1</td>\n",
       "      <td>1</td>\n",
       "      <td>1</td>\n",
       "      <td>1958</td>\n",
       "      <td>10</td>\n",
       "      <td>4</td>\n",
       "      <td>2020</td>\n",
       "      <td>4</td>\n",
       "      <td>2</td>\n",
       "      <td>2014</td>\n",
       "    </tr>\n",
       "  </tbody>\n",
       "</table>\n",
       "</div>"
      ],
      "text/plain": [
       "   First_Name  Last_Name  Customer_Type  Deceased_Flag  Gender  \\\n",
       "0        1230       1138              1              1       1   \n",
       "1           9       1139              1              1       1   \n",
       "2        1231       1140              2              1       1   \n",
       "3        1232       1141              3              0       0   \n",
       "4        1233       1142              2              0       1   \n",
       "\n",
       "   Martial_Status  PEP_Flag  CTF_Flag Country_of_residence Country_of_Origin  \\\n",
       "0               1         0         0          Philippines       Philippines   \n",
       "1               1         0         1                Egypt             Egypt   \n",
       "2               1         0         0               Turkey             Kenya   \n",
       "3               0         1         1               Turkey            Jordan   \n",
       "4               1         1         1           Gaza Strip        Gaza Strip   \n",
       "\n",
       "   Fraud  DD  MM    YY  DDj  MMj   YYj  DDe  MMe   YYe  \n",
       "0      1  21   5  1989   27   10  2008    3    6  2015  \n",
       "1      1   4   2  1963   18    4  2009    9   12  2019  \n",
       "2      1  24   4  1963   18    7  2003   23    7  2020  \n",
       "3      1  14   4  1980   17   11  2013   28    8  2011  \n",
       "4      1   1   1  1958   10    4  2020    4    2  2014  "
      ]
     },
     "execution_count": 8,
     "metadata": {},
     "output_type": "execute_result"
    }
   ],
   "source": [
    "#Removal of extra spaces from the data\n",
    "df['First_Name']=df['First_Name'].str.lower()\n",
    "df['Last_Name']=df['Last_Name'].str.lower()\n",
    "#Converting columns into Lists for the tokernizer\n",
    "first_name=list(df.First_Name.values)\n",
    "last_name=list(df.Last_Name.values)\n",
    "\n",
    "#Tokenizing First Name\n",
    "tk_fn = Tokenizer(num_words=2, lower=False, oov_token=None)\n",
    "tk_fn.fit_on_texts(first_name)\n",
    "wi_fn=tk_fn.word_index\n",
    "wi_fn\n",
    "\n",
    "#Tokenizing Last Name\n",
    "tk_ln = Tokenizer(num_words=2, lower=False, oov_token=None)\n",
    "tk_ln.fit_on_texts(last_name)\n",
    "wi_ln=tk_ln.word_index\n",
    "wi_ln\n",
    "\n",
    "#Reflecting changes to the Dataframe\n",
    "df=df.replace({\"First_Name\" : wi_fn})\n",
    "df=df.replace({\"Last_Name\" : wi_ln})\n",
    "df.head()"
   ]
  },
  {
   "cell_type": "code",
   "execution_count": 9,
   "id": "fb2fa080",
   "metadata": {
    "scrolled": true
   },
   "outputs": [
    {
     "data": {
      "text/html": [
       "<div>\n",
       "<style scoped>\n",
       "    .dataframe tbody tr th:only-of-type {\n",
       "        vertical-align: middle;\n",
       "    }\n",
       "\n",
       "    .dataframe tbody tr th {\n",
       "        vertical-align: top;\n",
       "    }\n",
       "\n",
       "    .dataframe thead th {\n",
       "        text-align: right;\n",
       "    }\n",
       "</style>\n",
       "<table border=\"1\" class=\"dataframe\">\n",
       "  <thead>\n",
       "    <tr style=\"text-align: right;\">\n",
       "      <th></th>\n",
       "      <th>First_Name</th>\n",
       "      <th>Last_Name</th>\n",
       "      <th>Customer_Type</th>\n",
       "      <th>Deceased_Flag</th>\n",
       "      <th>Gender</th>\n",
       "      <th>Martial_Status</th>\n",
       "      <th>PEP_Flag</th>\n",
       "      <th>CTF_Flag</th>\n",
       "      <th>Fraud</th>\n",
       "      <th>DD</th>\n",
       "      <th>MM</th>\n",
       "      <th>YY</th>\n",
       "      <th>DDj</th>\n",
       "      <th>MMj</th>\n",
       "      <th>YYj</th>\n",
       "      <th>DDe</th>\n",
       "      <th>MMe</th>\n",
       "      <th>YYe</th>\n",
       "      <th>COR</th>\n",
       "      <th>COO</th>\n",
       "    </tr>\n",
       "  </thead>\n",
       "  <tbody>\n",
       "    <tr>\n",
       "      <th>0</th>\n",
       "      <td>1230</td>\n",
       "      <td>1138</td>\n",
       "      <td>1</td>\n",
       "      <td>1</td>\n",
       "      <td>1</td>\n",
       "      <td>1</td>\n",
       "      <td>0</td>\n",
       "      <td>0</td>\n",
       "      <td>1</td>\n",
       "      <td>21</td>\n",
       "      <td>5</td>\n",
       "      <td>1989</td>\n",
       "      <td>27</td>\n",
       "      <td>10</td>\n",
       "      <td>2008</td>\n",
       "      <td>3</td>\n",
       "      <td>6</td>\n",
       "      <td>2015</td>\n",
       "      <td>4</td>\n",
       "      <td>4</td>\n",
       "    </tr>\n",
       "    <tr>\n",
       "      <th>1</th>\n",
       "      <td>9</td>\n",
       "      <td>1139</td>\n",
       "      <td>1</td>\n",
       "      <td>1</td>\n",
       "      <td>1</td>\n",
       "      <td>1</td>\n",
       "      <td>0</td>\n",
       "      <td>1</td>\n",
       "      <td>1</td>\n",
       "      <td>4</td>\n",
       "      <td>2</td>\n",
       "      <td>1963</td>\n",
       "      <td>18</td>\n",
       "      <td>4</td>\n",
       "      <td>2009</td>\n",
       "      <td>9</td>\n",
       "      <td>12</td>\n",
       "      <td>2019</td>\n",
       "      <td>42</td>\n",
       "      <td>47</td>\n",
       "    </tr>\n",
       "    <tr>\n",
       "      <th>2</th>\n",
       "      <td>1231</td>\n",
       "      <td>1140</td>\n",
       "      <td>2</td>\n",
       "      <td>1</td>\n",
       "      <td>1</td>\n",
       "      <td>1</td>\n",
       "      <td>0</td>\n",
       "      <td>0</td>\n",
       "      <td>1</td>\n",
       "      <td>24</td>\n",
       "      <td>4</td>\n",
       "      <td>1963</td>\n",
       "      <td>18</td>\n",
       "      <td>7</td>\n",
       "      <td>2003</td>\n",
       "      <td>23</td>\n",
       "      <td>7</td>\n",
       "      <td>2020</td>\n",
       "      <td>118</td>\n",
       "      <td>51</td>\n",
       "    </tr>\n",
       "    <tr>\n",
       "      <th>3</th>\n",
       "      <td>1232</td>\n",
       "      <td>1141</td>\n",
       "      <td>3</td>\n",
       "      <td>0</td>\n",
       "      <td>0</td>\n",
       "      <td>0</td>\n",
       "      <td>1</td>\n",
       "      <td>1</td>\n",
       "      <td>1</td>\n",
       "      <td>14</td>\n",
       "      <td>4</td>\n",
       "      <td>1980</td>\n",
       "      <td>17</td>\n",
       "      <td>11</td>\n",
       "      <td>2013</td>\n",
       "      <td>28</td>\n",
       "      <td>8</td>\n",
       "      <td>2011</td>\n",
       "      <td>118</td>\n",
       "      <td>68</td>\n",
       "    </tr>\n",
       "    <tr>\n",
       "      <th>4</th>\n",
       "      <td>1233</td>\n",
       "      <td>1142</td>\n",
       "      <td>2</td>\n",
       "      <td>0</td>\n",
       "      <td>1</td>\n",
       "      <td>1</td>\n",
       "      <td>1</td>\n",
       "      <td>1</td>\n",
       "      <td>1</td>\n",
       "      <td>1</td>\n",
       "      <td>1</td>\n",
       "      <td>1958</td>\n",
       "      <td>10</td>\n",
       "      <td>4</td>\n",
       "      <td>2020</td>\n",
       "      <td>4</td>\n",
       "      <td>2</td>\n",
       "      <td>2014</td>\n",
       "      <td>2</td>\n",
       "      <td>2</td>\n",
       "    </tr>\n",
       "  </tbody>\n",
       "</table>\n",
       "</div>"
      ],
      "text/plain": [
       "   First_Name  Last_Name  Customer_Type  Deceased_Flag  Gender  \\\n",
       "0        1230       1138              1              1       1   \n",
       "1           9       1139              1              1       1   \n",
       "2        1231       1140              2              1       1   \n",
       "3        1232       1141              3              0       0   \n",
       "4        1233       1142              2              0       1   \n",
       "\n",
       "   Martial_Status  PEP_Flag  CTF_Flag  Fraud  DD  MM    YY  DDj  MMj   YYj  \\\n",
       "0               1         0         0      1  21   5  1989   27   10  2008   \n",
       "1               1         0         1      1   4   2  1963   18    4  2009   \n",
       "2               1         0         0      1  24   4  1963   18    7  2003   \n",
       "3               0         1         1      1  14   4  1980   17   11  2013   \n",
       "4               1         1         1      1   1   1  1958   10    4  2020   \n",
       "\n",
       "   DDe  MMe   YYe  COR  COO  \n",
       "0    3    6  2015    4    4  \n",
       "1    9   12  2019   42   47  \n",
       "2   23    7  2020  118   51  \n",
       "3   28    8  2011  118   68  \n",
       "4    4    2  2014    2    2  "
      ]
     },
     "execution_count": 9,
     "metadata": {},
     "output_type": "execute_result"
    }
   ],
   "source": [
    "#Converting the COR and COO to alpha2 standard\n",
    "import pycountry as pyc\n",
    "\n",
    "input_COR = list(df['Country_of_residence'])\n",
    "input_COO = list(df['Country_of_Origin'])\n",
    "countries = {}\n",
    "for country in pyc.countries:\n",
    "    countries[country.name] = country.alpha_2\n",
    "\n",
    "COR = [countries.get(country, 'RU') for country in input_COR]\n",
    "COO = [countries.get(country, 'RU') for country in input_COO]\n",
    "\n",
    "df['COR']=COR\n",
    "df['COO']=COO\n",
    "df.drop(['Country_of_residence','Country_of_Origin'], axis=1, inplace=True)\n",
    "\n",
    "\n",
    "#Tokenize COR\n",
    "tk_cor = Tokenizer(num_words=2, lower=False, oov_token=None)\n",
    "tk_cor.fit_on_texts(COR)\n",
    "wi_cor=tk_cor.word_index\n",
    "wi_cor\n",
    "\n",
    "#Tokenizing COO\n",
    "tk_coo = Tokenizer(num_words=2, lower=False, oov_token=None)\n",
    "tk_coo.fit_on_texts(COO)\n",
    "wi_coo=tk_coo.word_index\n",
    "wi_coo\n",
    "\n",
    "#Reflecting changes to the Dataframe\n",
    "df=df.replace({\"COR\" : wi_cor})\n",
    "df=df.replace({\"COO\" : wi_coo})\n",
    "df.head()"
   ]
  },
  {
   "cell_type": "markdown",
   "id": "d3f106cb",
   "metadata": {},
   "source": [
    "## Coorelation Matrix\n",
    "\n",
    "To understand the relation of the data let's create a coorelation matrix"
   ]
  },
  {
   "cell_type": "code",
   "execution_count": 10,
   "id": "56bc2a6d",
   "metadata": {
    "scrolled": true
   },
   "outputs": [
    {
     "data": {
      "image/png": "[encoded data removed]",
      "text/plain": [
       "<Figure size 1440x720 with 2 Axes>"
      ]
     },
     "metadata": {
      "needs_background": "light"
     },
     "output_type": "display_data"
    }
   ],
   "source": [
    "import matplotlib.pyplot as plt\n",
    "%matplotlib inline\n",
    "plt.figure(figsize = (20,10))\n",
    "sns.heatmap(df.corr(), annot=True)\n",
    "plt.show()"
   ]
  },
  {
   "cell_type": "markdown",
   "id": "6075c2ba",
   "metadata": {},
   "source": [
    "Some high coorelations can be observed between the Fraud column with the (Deceased flag, PEP flag and CTF Flag). This is expected as the PEP flag and the CTF flag mean that the customer is more risky and prone to be fraud.\n",
    "\n",
    "Similarly PEP and CTF are also coorelated as there are a lot of customer with both the flags having same value.\n",
    "\n",
    "Unable to explain the relation of Deceased Flag."
   ]
  },
  {
   "cell_type": "markdown",
   "id": "7f4a8457",
   "metadata": {},
   "source": [
    "## Train test split"
   ]
  },
  {
   "cell_type": "code",
   "execution_count": 11,
   "id": "4049e002",
   "metadata": {},
   "outputs": [],
   "source": [
    "X=df.drop(['Fraud'], axis=1)\n",
    "y=df['Fraud']\n",
    "\n",
    "X_train, X_test, y_train, y_test = train_test_split(X,y, train_size=0.7, test_size=0.3, random_state=100)"
   ]
  },
  {
   "cell_type": "code",
   "execution_count": 12,
   "id": "1ba8af1a",
   "metadata": {
    "scrolled": true
   },
   "outputs": [
    {
     "name": "stdout",
     "output_type": "stream",
     "text": [
      "<class 'pandas.core.frame.DataFrame'>\n",
      "RangeIndex: 11000 entries, 0 to 10999\n",
      "Data columns (total 19 columns):\n",
      " #   Column          Non-Null Count  Dtype\n",
      "---  ------          --------------  -----\n",
      " 0   First_Name      11000 non-null  int64\n",
      " 1   Last_Name       11000 non-null  int64\n",
      " 2   Customer_Type   11000 non-null  int64\n",
      " 3   Deceased_Flag   11000 non-null  int64\n",
      " 4   Gender          11000 non-null  int64\n",
      " 5   Martial_Status  11000 non-null  int64\n",
      " 6   PEP_Flag        11000 non-null  int64\n",
      " 7   CTF_Flag        11000 non-null  int64\n",
      " 8   DD              11000 non-null  int32\n",
      " 9   MM              11000 non-null  int32\n",
      " 10  YY              11000 non-null  int32\n",
      " 11  DDj             11000 non-null  int32\n",
      " 12  MMj             11000 non-null  int32\n",
      " 13  YYj             11000 non-null  int32\n",
      " 14  DDe             11000 non-null  int32\n",
      " 15  MMe             11000 non-null  int32\n",
      " 16  YYe             11000 non-null  int32\n",
      " 17  COR             11000 non-null  int64\n",
      " 18  COO             11000 non-null  int64\n",
      "dtypes: int32(9), int64(10)\n",
      "memory usage: 1.2 MB\n"
     ]
    }
   ],
   "source": [
    "X.info()"
   ]
  },
  {
   "cell_type": "markdown",
   "id": "7297cb4b",
   "metadata": {},
   "source": [
    "# Model Creation\n",
    "Let's start with a Logistic Regression model to check the initial nature of the data and get some idea of the metrics"
   ]
  },
  {
   "cell_type": "code",
   "execution_count": 13,
   "id": "630d0a9d",
   "metadata": {},
   "outputs": [],
   "source": [
    "from sklearn.linear_model import LogisticRegression\n",
    "\n",
    "logr=LogisticRegression(random_state=42, n_jobs=-1, max_iter=1000)"
   ]
  },
  {
   "cell_type": "code",
   "execution_count": 14,
   "id": "d8ebff3e",
   "metadata": {
    "scrolled": true
   },
   "outputs": [],
   "source": [
    "model = logr.fit(X_train, y_train)"
   ]
  },
  {
   "cell_type": "markdown",
   "id": "a6fe51d8",
   "metadata": {},
   "source": [
    "The features need to be scaled for Logistic Regression model"
   ]
  },
  {
   "cell_type": "code",
   "execution_count": 15,
   "id": "4a365ed8",
   "metadata": {
    "scrolled": true
   },
   "outputs": [
    {
     "data": {
      "text/html": [
       "<div>\n",
       "<style scoped>\n",
       "    .dataframe tbody tr th:only-of-type {\n",
       "        vertical-align: middle;\n",
       "    }\n",
       "\n",
       "    .dataframe tbody tr th {\n",
       "        vertical-align: top;\n",
       "    }\n",
       "\n",
       "    .dataframe thead th {\n",
       "        text-align: right;\n",
       "    }\n",
       "</style>\n",
       "<table border=\"1\" class=\"dataframe\">\n",
       "  <thead>\n",
       "    <tr style=\"text-align: right;\">\n",
       "      <th></th>\n",
       "      <th>First_Name</th>\n",
       "      <th>Last_Name</th>\n",
       "      <th>Customer_Type</th>\n",
       "      <th>Deceased_Flag</th>\n",
       "      <th>Gender</th>\n",
       "      <th>Martial_Status</th>\n",
       "      <th>PEP_Flag</th>\n",
       "      <th>CTF_Flag</th>\n",
       "      <th>DD</th>\n",
       "      <th>MM</th>\n",
       "      <th>YY</th>\n",
       "      <th>DDj</th>\n",
       "      <th>MMj</th>\n",
       "      <th>YYj</th>\n",
       "      <th>DDe</th>\n",
       "      <th>MMe</th>\n",
       "      <th>YYe</th>\n",
       "      <th>COR</th>\n",
       "      <th>COO</th>\n",
       "    </tr>\n",
       "  </thead>\n",
       "  <tbody>\n",
       "    <tr>\n",
       "      <th>10530</th>\n",
       "      <td>919</td>\n",
       "      <td>1015</td>\n",
       "      <td>3</td>\n",
       "      <td>0</td>\n",
       "      <td>0</td>\n",
       "      <td>1</td>\n",
       "      <td>0</td>\n",
       "      <td>0</td>\n",
       "      <td>-1.092785</td>\n",
       "      <td>-0.443436</td>\n",
       "      <td>0.606779</td>\n",
       "      <td>1.174916</td>\n",
       "      <td>1.309157</td>\n",
       "      <td>1.373897</td>\n",
       "      <td>0.606612</td>\n",
       "      <td>-1.301459</td>\n",
       "      <td>1.683045</td>\n",
       "      <td>5</td>\n",
       "      <td>1</td>\n",
       "    </tr>\n",
       "    <tr>\n",
       "      <th>7744</th>\n",
       "      <td>1393</td>\n",
       "      <td>7228</td>\n",
       "      <td>2</td>\n",
       "      <td>0</td>\n",
       "      <td>1</td>\n",
       "      <td>0</td>\n",
       "      <td>0</td>\n",
       "      <td>0</td>\n",
       "      <td>-1.432238</td>\n",
       "      <td>0.136291</td>\n",
       "      <td>0.271778</td>\n",
       "      <td>-0.870101</td>\n",
       "      <td>1.599424</td>\n",
       "      <td>-0.471673</td>\n",
       "      <td>0.380102</td>\n",
       "      <td>-1.301459</td>\n",
       "      <td>-0.295139</td>\n",
       "      <td>15</td>\n",
       "      <td>12</td>\n",
       "    </tr>\n",
       "    <tr>\n",
       "      <th>2459</th>\n",
       "      <td>1925</td>\n",
       "      <td>3075</td>\n",
       "      <td>5</td>\n",
       "      <td>0</td>\n",
       "      <td>0</td>\n",
       "      <td>0</td>\n",
       "      <td>0</td>\n",
       "      <td>0</td>\n",
       "      <td>0.604482</td>\n",
       "      <td>1.005882</td>\n",
       "      <td>0.690529</td>\n",
       "      <td>0.038795</td>\n",
       "      <td>-0.142174</td>\n",
       "      <td>0.367222</td>\n",
       "      <td>1.286144</td>\n",
       "      <td>-1.592170</td>\n",
       "      <td>-1.394130</td>\n",
       "      <td>2</td>\n",
       "      <td>13</td>\n",
       "    </tr>\n",
       "    <tr>\n",
       "      <th>3724</th>\n",
       "      <td>2280</td>\n",
       "      <td>4074</td>\n",
       "      <td>3</td>\n",
       "      <td>0</td>\n",
       "      <td>1</td>\n",
       "      <td>0</td>\n",
       "      <td>0</td>\n",
       "      <td>0</td>\n",
       "      <td>-0.413878</td>\n",
       "      <td>-0.153572</td>\n",
       "      <td>-0.565725</td>\n",
       "      <td>1.061304</td>\n",
       "      <td>0.438359</td>\n",
       "      <td>1.541676</td>\n",
       "      <td>1.739165</td>\n",
       "      <td>0.442806</td>\n",
       "      <td>0.144458</td>\n",
       "      <td>21</td>\n",
       "      <td>8</td>\n",
       "    </tr>\n",
       "    <tr>\n",
       "      <th>1238</th>\n",
       "      <td>254</td>\n",
       "      <td>2090</td>\n",
       "      <td>5</td>\n",
       "      <td>0</td>\n",
       "      <td>0</td>\n",
       "      <td>0</td>\n",
       "      <td>0</td>\n",
       "      <td>0</td>\n",
       "      <td>0.830784</td>\n",
       "      <td>-0.443436</td>\n",
       "      <td>1.025530</td>\n",
       "      <td>-0.642877</td>\n",
       "      <td>-0.722706</td>\n",
       "      <td>1.373897</td>\n",
       "      <td>-1.318728</td>\n",
       "      <td>-0.429326</td>\n",
       "      <td>-0.954534</td>\n",
       "      <td>26</td>\n",
       "      <td>12</td>\n",
       "    </tr>\n",
       "  </tbody>\n",
       "</table>\n",
       "</div>"
      ],
      "text/plain": [
       "       First_Name  Last_Name  Customer_Type  Deceased_Flag  Gender  \\\n",
       "10530         919       1015              3              0       0   \n",
       "7744         1393       7228              2              0       1   \n",
       "2459         1925       3075              5              0       0   \n",
       "3724         2280       4074              3              0       1   \n",
       "1238          254       2090              5              0       0   \n",
       "\n",
       "       Martial_Status  PEP_Flag  CTF_Flag        DD        MM        YY  \\\n",
       "10530               1         0         0 -1.092785 -0.443436  0.606779   \n",
       "7744                0         0         0 -1.432238  0.136291  0.271778   \n",
       "2459                0         0         0  0.604482  1.005882  0.690529   \n",
       "3724                0         0         0 -0.413878 -0.153572 -0.565725   \n",
       "1238                0         0         0  0.830784 -0.443436  1.025530   \n",
       "\n",
       "            DDj       MMj       YYj       DDe       MMe       YYe  COR  COO  \n",
       "10530  1.174916  1.309157  1.373897  0.606612 -1.301459  1.683045    5    1  \n",
       "7744  -0.870101  1.599424 -0.471673  0.380102 -1.301459 -0.295139   15   12  \n",
       "2459   0.038795 -0.142174  0.367222  1.286144 -1.592170 -1.394130    2   13  \n",
       "3724   1.061304  0.438359  1.541676  1.739165  0.442806  0.144458   21    8  \n",
       "1238  -0.642877 -0.722706  1.373897 -1.318728 -0.429326 -0.954534   26   12  "
      ]
     },
     "execution_count": 15,
     "metadata": {},
     "output_type": "execute_result"
    }
   ],
   "source": [
    "from sklearn.preprocessing import StandardScaler\n",
    "\n",
    "scaler= StandardScaler()\n",
    "X_train_logm =X_train.copy()\n",
    "X_train_logm[['DD','MM','YY','DDj','MMj','YYj','DDe','MMe','YYe']] = scaler.fit_transform(X_train[['DD','MM','YY','DDj','MMj','YYj','DDe','MMe','YYe']])\n",
    "X_train_logm.head()"
   ]
  },
  {
   "cell_type": "markdown",
   "id": "100844fe",
   "metadata": {},
   "source": [
    "X_train_logm has the scaled features, it should allow the model to be trained."
   ]
  },
  {
   "cell_type": "code",
   "execution_count": 16,
   "id": "ac069f16",
   "metadata": {
    "scrolled": true
   },
   "outputs": [],
   "source": [
    "model = logr.fit(X_train_logm, y_train)"
   ]
  },
  {
   "cell_type": "markdown",
   "id": "21b50b73",
   "metadata": {},
   "source": [
    "#### Train set prediction :: LR Model"
   ]
  },
  {
   "cell_type": "code",
   "execution_count": 17,
   "id": "a6eefd62",
   "metadata": {},
   "outputs": [],
   "source": [
    "pred_probs_train = model.predict_proba(X_train_logm)\n",
    "y_train_pred_final = pd.DataFrame({'Fraud':y_train.values, 'Fraud_Prob':pred_probs_train[:, 1].tolist()})"
   ]
  },
  {
   "cell_type": "code",
   "execution_count": 18,
   "id": "c3d35200",
   "metadata": {},
   "outputs": [
    {
     "data": {
      "text/html": [
       "<div>\n",
       "<style scoped>\n",
       "    .dataframe tbody tr th:only-of-type {\n",
       "        vertical-align: middle;\n",
       "    }\n",
       "\n",
       "    .dataframe tbody tr th {\n",
       "        vertical-align: top;\n",
       "    }\n",
       "\n",
       "    .dataframe thead th {\n",
       "        text-align: right;\n",
       "    }\n",
       "</style>\n",
       "<table border=\"1\" class=\"dataframe\">\n",
       "  <thead>\n",
       "    <tr style=\"text-align: right;\">\n",
       "      <th></th>\n",
       "      <th>Fraud</th>\n",
       "      <th>Fraud_Prob</th>\n",
       "    </tr>\n",
       "  </thead>\n",
       "  <tbody>\n",
       "    <tr>\n",
       "      <th>0</th>\n",
       "      <td>0</td>\n",
       "      <td>0.003335</td>\n",
       "    </tr>\n",
       "    <tr>\n",
       "      <th>1</th>\n",
       "      <td>0</td>\n",
       "      <td>0.000156</td>\n",
       "    </tr>\n",
       "    <tr>\n",
       "      <th>2</th>\n",
       "      <td>0</td>\n",
       "      <td>0.000034</td>\n",
       "    </tr>\n",
       "    <tr>\n",
       "      <th>3</th>\n",
       "      <td>0</td>\n",
       "      <td>0.000679</td>\n",
       "    </tr>\n",
       "    <tr>\n",
       "      <th>4</th>\n",
       "      <td>0</td>\n",
       "      <td>0.000047</td>\n",
       "    </tr>\n",
       "    <tr>\n",
       "      <th>...</th>\n",
       "      <td>...</td>\n",
       "      <td>...</td>\n",
       "    </tr>\n",
       "    <tr>\n",
       "      <th>7694</th>\n",
       "      <td>0</td>\n",
       "      <td>0.000758</td>\n",
       "    </tr>\n",
       "    <tr>\n",
       "      <th>7695</th>\n",
       "      <td>0</td>\n",
       "      <td>0.000114</td>\n",
       "    </tr>\n",
       "    <tr>\n",
       "      <th>7696</th>\n",
       "      <td>0</td>\n",
       "      <td>0.003571</td>\n",
       "    </tr>\n",
       "    <tr>\n",
       "      <th>7697</th>\n",
       "      <td>0</td>\n",
       "      <td>0.000005</td>\n",
       "    </tr>\n",
       "    <tr>\n",
       "      <th>7698</th>\n",
       "      <td>0</td>\n",
       "      <td>0.000191</td>\n",
       "    </tr>\n",
       "  </tbody>\n",
       "</table>\n",
       "<p>7699 rows × 2 columns</p>\n",
       "</div>"
      ],
      "text/plain": [
       "      Fraud  Fraud_Prob\n",
       "0         0    0.003335\n",
       "1         0    0.000156\n",
       "2         0    0.000034\n",
       "3         0    0.000679\n",
       "4         0    0.000047\n",
       "...     ...         ...\n",
       "7694      0    0.000758\n",
       "7695      0    0.000114\n",
       "7696      0    0.003571\n",
       "7697      0    0.000005\n",
       "7698      0    0.000191\n",
       "\n",
       "[7699 rows x 2 columns]"
      ]
     },
     "execution_count": 18,
     "metadata": {},
     "output_type": "execute_result"
    }
   ],
   "source": [
    "y_train_pred_final"
   ]
  },
  {
   "cell_type": "code",
   "execution_count": 19,
   "id": "6b230425",
   "metadata": {},
   "outputs": [],
   "source": [
    "#Setting the threshold to 0.5 for now\n",
    "threshold = 0.5"
   ]
  },
  {
   "cell_type": "code",
   "execution_count": 20,
   "id": "e0b0a5ad",
   "metadata": {},
   "outputs": [],
   "source": [
    "y_train_pred_final['Predicted'] = y_train_pred_final.Fraud_Prob.map(lambda x: 1 if x > threshold else 0)"
   ]
  },
  {
   "cell_type": "code",
   "execution_count": 21,
   "id": "eec70b3e",
   "metadata": {},
   "outputs": [
    {
     "name": "stdout",
     "output_type": "stream",
     "text": [
      "Sensitivity: 0.5\n",
      "Accuracy   : 0.997532147032082\n"
     ]
    }
   ],
   "source": [
    "# Confusion matrix\n",
    "from sklearn import metrics\n",
    "from sklearn.metrics import confusion_matrix\n",
    "confusion = metrics.confusion_matrix(y_train_pred_final.Fraud, y_train_pred_final.Predicted)\n",
    "\n",
    "TP = confusion[1,1] # true positive \n",
    "TN = confusion[0,0] # true negatives\n",
    "FP = confusion[0,1] # false positives\n",
    "FN = confusion[1,0] # false negatives\n",
    "\n",
    "# Sensitivity and Accuracy Metrics\n",
    "print(\"Sensitivity: \" + str(TP / float(TP+FN)))\n",
    "print(\"Accuracy   : \" + str(float(TP + TN) / float(TP + TN + FP + FN)))"
   ]
  },
  {
   "cell_type": "code",
   "execution_count": 22,
   "id": "4d33e5ff",
   "metadata": {},
   "outputs": [
    {
     "name": "stdout",
     "output_type": "stream",
     "text": [
      "[[7666    5]\n",
      " [  14   14]]\n"
     ]
    }
   ],
   "source": [
    "print(confusion)"
   ]
  },
  {
   "cell_type": "markdown",
   "id": "b2143595",
   "metadata": {},
   "source": [
    "#### Test set prediction :: LR Model"
   ]
  },
  {
   "cell_type": "code",
   "execution_count": 23,
   "id": "b1cbd356",
   "metadata": {},
   "outputs": [
    {
     "data": {
      "text/html": [
       "<div>\n",
       "<style scoped>\n",
       "    .dataframe tbody tr th:only-of-type {\n",
       "        vertical-align: middle;\n",
       "    }\n",
       "\n",
       "    .dataframe tbody tr th {\n",
       "        vertical-align: top;\n",
       "    }\n",
       "\n",
       "    .dataframe thead th {\n",
       "        text-align: right;\n",
       "    }\n",
       "</style>\n",
       "<table border=\"1\" class=\"dataframe\">\n",
       "  <thead>\n",
       "    <tr style=\"text-align: right;\">\n",
       "      <th></th>\n",
       "      <th>First_Name</th>\n",
       "      <th>Last_Name</th>\n",
       "      <th>Customer_Type</th>\n",
       "      <th>Deceased_Flag</th>\n",
       "      <th>Gender</th>\n",
       "      <th>Martial_Status</th>\n",
       "      <th>PEP_Flag</th>\n",
       "      <th>CTF_Flag</th>\n",
       "      <th>DD</th>\n",
       "      <th>MM</th>\n",
       "      <th>YY</th>\n",
       "      <th>DDj</th>\n",
       "      <th>MMj</th>\n",
       "      <th>YYj</th>\n",
       "      <th>DDe</th>\n",
       "      <th>MMe</th>\n",
       "      <th>YYe</th>\n",
       "      <th>COR</th>\n",
       "      <th>COO</th>\n",
       "    </tr>\n",
       "  </thead>\n",
       "  <tbody>\n",
       "    <tr>\n",
       "      <th>351</th>\n",
       "      <td>3209</td>\n",
       "      <td>1412</td>\n",
       "      <td>4</td>\n",
       "      <td>0</td>\n",
       "      <td>0</td>\n",
       "      <td>1</td>\n",
       "      <td>0</td>\n",
       "      <td>0</td>\n",
       "      <td>0.717633</td>\n",
       "      <td>0.136291</td>\n",
       "      <td>-1.486978</td>\n",
       "      <td>-0.756489</td>\n",
       "      <td>1.018891</td>\n",
       "      <td>1.541676</td>\n",
       "      <td>0.493357</td>\n",
       "      <td>0.442806</td>\n",
       "      <td>-0.734735</td>\n",
       "      <td>1</td>\n",
       "      <td>6</td>\n",
       "    </tr>\n",
       "    <tr>\n",
       "      <th>3305</th>\n",
       "      <td>1617</td>\n",
       "      <td>3755</td>\n",
       "      <td>3</td>\n",
       "      <td>0</td>\n",
       "      <td>0</td>\n",
       "      <td>1</td>\n",
       "      <td>0</td>\n",
       "      <td>0</td>\n",
       "      <td>0.491331</td>\n",
       "      <td>1.295746</td>\n",
       "      <td>1.611782</td>\n",
       "      <td>0.720468</td>\n",
       "      <td>0.148093</td>\n",
       "      <td>1.541676</td>\n",
       "      <td>-1.545238</td>\n",
       "      <td>-0.720037</td>\n",
       "      <td>1.243449</td>\n",
       "      <td>1</td>\n",
       "      <td>1</td>\n",
       "    </tr>\n",
       "    <tr>\n",
       "      <th>4700</th>\n",
       "      <td>911</td>\n",
       "      <td>4825</td>\n",
       "      <td>5</td>\n",
       "      <td>0</td>\n",
       "      <td>0</td>\n",
       "      <td>0</td>\n",
       "      <td>0</td>\n",
       "      <td>0</td>\n",
       "      <td>1.509691</td>\n",
       "      <td>-1.602891</td>\n",
       "      <td>-1.654479</td>\n",
       "      <td>0.038795</td>\n",
       "      <td>-0.722706</td>\n",
       "      <td>-0.471673</td>\n",
       "      <td>-0.072919</td>\n",
       "      <td>-0.720037</td>\n",
       "      <td>0.584054</td>\n",
       "      <td>3</td>\n",
       "      <td>66</td>\n",
       "    </tr>\n",
       "    <tr>\n",
       "      <th>6405</th>\n",
       "      <td>4823</td>\n",
       "      <td>6186</td>\n",
       "      <td>5</td>\n",
       "      <td>0</td>\n",
       "      <td>0</td>\n",
       "      <td>0</td>\n",
       "      <td>0</td>\n",
       "      <td>0</td>\n",
       "      <td>1.396540</td>\n",
       "      <td>0.716019</td>\n",
       "      <td>0.104277</td>\n",
       "      <td>0.266020</td>\n",
       "      <td>-0.142174</td>\n",
       "      <td>0.031664</td>\n",
       "      <td>-0.525941</td>\n",
       "      <td>0.733517</td>\n",
       "      <td>1.463247</td>\n",
       "      <td>2</td>\n",
       "      <td>1</td>\n",
       "    </tr>\n",
       "    <tr>\n",
       "      <th>7027</th>\n",
       "      <td>2794</td>\n",
       "      <td>6670</td>\n",
       "      <td>3</td>\n",
       "      <td>0</td>\n",
       "      <td>0</td>\n",
       "      <td>0</td>\n",
       "      <td>0</td>\n",
       "      <td>0</td>\n",
       "      <td>0.604482</td>\n",
       "      <td>1.585610</td>\n",
       "      <td>-0.565725</td>\n",
       "      <td>0.266020</td>\n",
       "      <td>1.599424</td>\n",
       "      <td>-0.471673</td>\n",
       "      <td>-1.658494</td>\n",
       "      <td>0.152096</td>\n",
       "      <td>1.023651</td>\n",
       "      <td>5</td>\n",
       "      <td>16</td>\n",
       "    </tr>\n",
       "  </tbody>\n",
       "</table>\n",
       "</div>"
      ],
      "text/plain": [
       "      First_Name  Last_Name  Customer_Type  Deceased_Flag  Gender  \\\n",
       "351         3209       1412              4              0       0   \n",
       "3305        1617       3755              3              0       0   \n",
       "4700         911       4825              5              0       0   \n",
       "6405        4823       6186              5              0       0   \n",
       "7027        2794       6670              3              0       0   \n",
       "\n",
       "      Martial_Status  PEP_Flag  CTF_Flag        DD        MM        YY  \\\n",
       "351                1         0         0  0.717633  0.136291 -1.486978   \n",
       "3305               1         0         0  0.491331  1.295746  1.611782   \n",
       "4700               0         0         0  1.509691 -1.602891 -1.654479   \n",
       "6405               0         0         0  1.396540  0.716019  0.104277   \n",
       "7027               0         0         0  0.604482  1.585610 -0.565725   \n",
       "\n",
       "           DDj       MMj       YYj       DDe       MMe       YYe  COR  COO  \n",
       "351  -0.756489  1.018891  1.541676  0.493357  0.442806 -0.734735    1    6  \n",
       "3305  0.720468  0.148093  1.541676 -1.545238 -0.720037  1.243449    1    1  \n",
       "4700  0.038795 -0.722706 -0.471673 -0.072919 -0.720037  0.584054    3   66  \n",
       "6405  0.266020 -0.142174  0.031664 -0.525941  0.733517  1.463247    2    1  \n",
       "7027  0.266020  1.599424 -0.471673 -1.658494  0.152096  1.023651    5   16  "
      ]
     },
     "execution_count": 23,
     "metadata": {},
     "output_type": "execute_result"
    }
   ],
   "source": [
    "#Scaling test data\n",
    "X_test_logm =X_test.copy()\n",
    "X_test_logm[['DD','MM','YY','DDj','MMj','YYj','DDe','MMe','YYe']] = scaler.transform(X_test[['DD','MM','YY','DDj','MMj','YYj','DDe','MMe','YYe']])\n",
    "X_test_logm.head()"
   ]
  },
  {
   "cell_type": "code",
   "execution_count": 24,
   "id": "88cacfee",
   "metadata": {},
   "outputs": [],
   "source": [
    "pred_probs_test = model.predict_proba(X_test_logm)\n",
    "y_test_pred_final = pd.DataFrame({'Fraud':y_test.values, 'Fraud_Prob':pred_probs_test[:, 1].tolist()})\n",
    "y_test_pred_final['Predicted'] = y_test_pred_final.Fraud_Prob.map(lambda x: 1 if x > threshold else 0)"
   ]
  },
  {
   "cell_type": "code",
   "execution_count": 25,
   "id": "a106402c",
   "metadata": {},
   "outputs": [
    {
     "data": {
      "text/html": [
       "<div>\n",
       "<style scoped>\n",
       "    .dataframe tbody tr th:only-of-type {\n",
       "        vertical-align: middle;\n",
       "    }\n",
       "\n",
       "    .dataframe tbody tr th {\n",
       "        vertical-align: top;\n",
       "    }\n",
       "\n",
       "    .dataframe thead th {\n",
       "        text-align: right;\n",
       "    }\n",
       "</style>\n",
       "<table border=\"1\" class=\"dataframe\">\n",
       "  <thead>\n",
       "    <tr style=\"text-align: right;\">\n",
       "      <th></th>\n",
       "      <th>Fraud</th>\n",
       "      <th>Fraud_Prob</th>\n",
       "      <th>Predicted</th>\n",
       "    </tr>\n",
       "  </thead>\n",
       "  <tbody>\n",
       "    <tr>\n",
       "      <th>0</th>\n",
       "      <td>0</td>\n",
       "      <td>1.011135e-03</td>\n",
       "      <td>0</td>\n",
       "    </tr>\n",
       "    <tr>\n",
       "      <th>1</th>\n",
       "      <td>0</td>\n",
       "      <td>1.331642e-04</td>\n",
       "      <td>0</td>\n",
       "    </tr>\n",
       "    <tr>\n",
       "      <th>2</th>\n",
       "      <td>0</td>\n",
       "      <td>1.670070e-05</td>\n",
       "      <td>0</td>\n",
       "    </tr>\n",
       "    <tr>\n",
       "      <th>3</th>\n",
       "      <td>0</td>\n",
       "      <td>8.977896e-07</td>\n",
       "      <td>0</td>\n",
       "    </tr>\n",
       "    <tr>\n",
       "      <th>4</th>\n",
       "      <td>0</td>\n",
       "      <td>1.586508e-05</td>\n",
       "      <td>0</td>\n",
       "    </tr>\n",
       "    <tr>\n",
       "      <th>...</th>\n",
       "      <td>...</td>\n",
       "      <td>...</td>\n",
       "      <td>...</td>\n",
       "    </tr>\n",
       "    <tr>\n",
       "      <th>3295</th>\n",
       "      <td>0</td>\n",
       "      <td>1.064476e-05</td>\n",
       "      <td>0</td>\n",
       "    </tr>\n",
       "    <tr>\n",
       "      <th>3296</th>\n",
       "      <td>0</td>\n",
       "      <td>1.639694e-05</td>\n",
       "      <td>0</td>\n",
       "    </tr>\n",
       "    <tr>\n",
       "      <th>3297</th>\n",
       "      <td>0</td>\n",
       "      <td>6.196169e-04</td>\n",
       "      <td>0</td>\n",
       "    </tr>\n",
       "    <tr>\n",
       "      <th>3298</th>\n",
       "      <td>0</td>\n",
       "      <td>5.267498e-04</td>\n",
       "      <td>0</td>\n",
       "    </tr>\n",
       "    <tr>\n",
       "      <th>3299</th>\n",
       "      <td>0</td>\n",
       "      <td>1.519833e-03</td>\n",
       "      <td>0</td>\n",
       "    </tr>\n",
       "  </tbody>\n",
       "</table>\n",
       "<p>3300 rows × 3 columns</p>\n",
       "</div>"
      ],
      "text/plain": [
       "      Fraud    Fraud_Prob  Predicted\n",
       "0         0  1.011135e-03          0\n",
       "1         0  1.331642e-04          0\n",
       "2         0  1.670070e-05          0\n",
       "3         0  8.977896e-07          0\n",
       "4         0  1.586508e-05          0\n",
       "...     ...           ...        ...\n",
       "3295      0  1.064476e-05          0\n",
       "3296      0  1.639694e-05          0\n",
       "3297      0  6.196169e-04          0\n",
       "3298      0  5.267498e-04          0\n",
       "3299      0  1.519833e-03          0\n",
       "\n",
       "[3300 rows x 3 columns]"
      ]
     },
     "execution_count": 25,
     "metadata": {},
     "output_type": "execute_result"
    }
   ],
   "source": [
    "y_test_pred_final"
   ]
  },
  {
   "cell_type": "code",
   "execution_count": 26,
   "id": "6c9f6e85",
   "metadata": {},
   "outputs": [
    {
     "name": "stdout",
     "output_type": "stream",
     "text": [
      "Sensitivity: 0.3888888888888889\n",
      "Accuracy   : 0.9960606060606061\n"
     ]
    }
   ],
   "source": [
    "# Confusion matrix\n",
    "confusion = metrics.confusion_matrix(y_test_pred_final.Fraud, y_test_pred_final.Predicted)\n",
    "\n",
    "TP = confusion[1,1] # true positive \n",
    "TN = confusion[0,0] # true negatives\n",
    "FP = confusion[0,1] # false positives\n",
    "FN = confusion[1,0] # false negatives\n",
    "\n",
    "# Sensitivity and Accuracy Metrics\n",
    "print(\"Sensitivity: \" + str(TP / float(TP+FN)))\n",
    "print(\"Accuracy   : \" + str(float(TP + TN) / float(TP + TN + FP + FN)))"
   ]
  },
  {
   "cell_type": "code",
   "execution_count": 27,
   "id": "3d93e1c8",
   "metadata": {},
   "outputs": [
    {
     "name": "stdout",
     "output_type": "stream",
     "text": [
      "[[3280    2]\n",
      " [  11    7]]\n"
     ]
    }
   ],
   "source": [
    "print(confusion)"
   ]
  },
  {
   "cell_type": "markdown",
   "id": "541656d0",
   "metadata": {},
   "source": [
    "The sensitivity is very low with the Logistic Regression model. Let us try a different algorithm, perhaps a non linear algorithm would perform better."
   ]
  },
  {
   "cell_type": "markdown",
   "id": "f4ab00b7",
   "metadata": {},
   "source": [
    "## Decision Tree"
   ]
  },
  {
   "cell_type": "code",
   "execution_count": 28,
   "id": "2ba5d871",
   "metadata": {},
   "outputs": [],
   "source": [
    "tree= DecisionTreeClassifier(random_state=42, max_depth = 4)"
   ]
  },
  {
   "cell_type": "code",
   "execution_count": 29,
   "id": "fbcef245",
   "metadata": {
    "scrolled": true
   },
   "outputs": [
    {
     "data": {
      "text/plain": [
       "DecisionTreeClassifier(ccp_alpha=0.0, class_weight=None, criterion='gini',\n",
       "                       max_depth=4, max_features=None, max_leaf_nodes=None,\n",
       "                       min_impurity_decrease=0.0, min_impurity_split=None,\n",
       "                       min_samples_leaf=1, min_samples_split=2,\n",
       "                       min_weight_fraction_leaf=0.0, presort='deprecated',\n",
       "                       random_state=42, splitter='best')"
      ]
     },
     "execution_count": 29,
     "metadata": {},
     "output_type": "execute_result"
    }
   ],
   "source": [
    "tree.fit(X_train,y_train)"
   ]
  },
  {
   "cell_type": "markdown",
   "id": "05ccf693",
   "metadata": {},
   "source": [
    "### Train data prediction"
   ]
  },
  {
   "cell_type": "code",
   "execution_count": 30,
   "id": "803f6e45",
   "metadata": {},
   "outputs": [],
   "source": [
    "y_train_pred = tree.predict(X_train)\n",
    "y_train_pred_final = pd.DataFrame({'Fraud':y_train.values, 'Predicted':y_train_pred})"
   ]
  },
  {
   "cell_type": "code",
   "execution_count": 31,
   "id": "aaa59fa0",
   "metadata": {},
   "outputs": [
    {
     "name": "stdout",
     "output_type": "stream",
     "text": [
      "Sensitivity: 0.9285714285714286\n",
      "Accuracy   : 0.9994804520067542\n"
     ]
    }
   ],
   "source": [
    "# Confusion matrix\n",
    "confusion = metrics.confusion_matrix(y_train_pred_final.Fraud, y_train_pred_final.Predicted)\n",
    "\n",
    "TP = confusion[1,1] # true positive \n",
    "TN = confusion[0,0] # true negatives\n",
    "FP = confusion[0,1] # false positives\n",
    "FN = confusion[1,0] # false negatives\n",
    "\n",
    "# Sensitivity and Accuracy Metrics\n",
    "print(\"Sensitivity: \" + str(TP / float(TP+FN)))\n",
    "print(\"Accuracy   : \" + str(float(TP + TN) / float(TP + TN + FP + FN)))"
   ]
  },
  {
   "cell_type": "code",
   "execution_count": 32,
   "id": "6f7c8327",
   "metadata": {
    "scrolled": false
   },
   "outputs": [
    {
     "name": "stdout",
     "output_type": "stream",
     "text": [
      "[[7669    2]\n",
      " [   2   26]]\n"
     ]
    }
   ],
   "source": [
    "print(confusion)"
   ]
  },
  {
   "cell_type": "markdown",
   "id": "104bf001",
   "metadata": {},
   "source": [
    "### Test data prediction"
   ]
  },
  {
   "cell_type": "code",
   "execution_count": 33,
   "id": "f0255823",
   "metadata": {},
   "outputs": [],
   "source": [
    "y_test_pred = tree.predict(X_test)\n",
    "y_test_pred_final = pd.DataFrame({'Fraud':y_test.values, 'Predicted':y_test_pred})"
   ]
  },
  {
   "cell_type": "code",
   "execution_count": 34,
   "id": "5d893694",
   "metadata": {},
   "outputs": [
    {
     "name": "stdout",
     "output_type": "stream",
     "text": [
      "Sensitivity: 0.7777777777777778\n",
      "Accuracy   : 0.9984848484848485\n"
     ]
    }
   ],
   "source": [
    "# Confusion matrix\n",
    "confusion = metrics.confusion_matrix(y_test_pred_final.Fraud, y_test_pred_final.Predicted)\n",
    "\n",
    "TP = confusion[1,1] # true positive \n",
    "TN = confusion[0,0] # true negatives\n",
    "FP = confusion[0,1] # false positives\n",
    "FN = confusion[1,0] # false negatives\n",
    "\n",
    "# Sensitivity and Accuracy Metrics\n",
    "print(\"Sensitivity: \" + str(TP / float(TP+FN)))\n",
    "print(\"Accuracy   : \" + str(float(TP + TN) / float(TP + TN + FP + FN)))"
   ]
  },
  {
   "cell_type": "code",
   "execution_count": 35,
   "id": "c81d0074",
   "metadata": {
    "scrolled": true
   },
   "outputs": [
    {
     "name": "stdout",
     "output_type": "stream",
     "text": [
      "[[3281    1]\n",
      " [   4   14]]\n"
     ]
    }
   ],
   "source": [
    "print(confusion)"
   ]
  },
  {
   "cell_type": "markdown",
   "id": "23cb24bd",
   "metadata": {},
   "source": [
    "## Hyperparameter tuning"
   ]
  },
  {
   "cell_type": "code",
   "execution_count": 36,
   "id": "09178aeb",
   "metadata": {},
   "outputs": [],
   "source": [
    "dt = DecisionTreeClassifier(random_state=42, class_weight=\"balanced\")\n",
    "\n",
    "# Create the parameter grid based on the results of random search \n",
    "params = {\n",
    "    'max_depth': [5, 10, 20, 50],\n",
    "    'min_samples_leaf': [10, 20, 50, 100]\n",
    "}"
   ]
  },
  {
   "cell_type": "code",
   "execution_count": 37,
   "id": "8195b727",
   "metadata": {},
   "outputs": [],
   "source": [
    "# Instantiate the grid search model\n",
    "grid_search = GridSearchCV(estimator=dt, \n",
    "                           param_grid=params, \n",
    "                           cv=4, n_jobs=-1, verbose=1, scoring = \"recall\")"
   ]
  },
  {
   "cell_type": "code",
   "execution_count": 38,
   "id": "434c4d15",
   "metadata": {},
   "outputs": [
    {
     "name": "stdout",
     "output_type": "stream",
     "text": [
      "Fitting 4 folds for each of 16 candidates, totalling 64 fits\n"
     ]
    },
    {
     "name": "stderr",
     "output_type": "stream",
     "text": [
      "[Parallel(n_jobs=-1)]: Using backend LokyBackend with 6 concurrent workers.\n"
     ]
    },
    {
     "name": "stdout",
     "output_type": "stream",
     "text": [
      "Wall time: 926 ms\n"
     ]
    },
    {
     "name": "stderr",
     "output_type": "stream",
     "text": [
      "[Parallel(n_jobs=-1)]: Done  50 tasks      | elapsed:    0.7s\n",
      "[Parallel(n_jobs=-1)]: Done  64 out of  64 | elapsed:    0.8s finished\n"
     ]
    },
    {
     "data": {
      "text/plain": [
       "GridSearchCV(cv=4, error_score=nan,\n",
       "             estimator=DecisionTreeClassifier(ccp_alpha=0.0,\n",
       "                                              class_weight='balanced',\n",
       "                                              criterion='gini', max_depth=None,\n",
       "                                              max_features=None,\n",
       "                                              max_leaf_nodes=None,\n",
       "                                              min_impurity_decrease=0.0,\n",
       "                                              min_impurity_split=None,\n",
       "                                              min_samples_leaf=1,\n",
       "                                              min_samples_split=2,\n",
       "                                              min_weight_fraction_leaf=0.0,\n",
       "                                              presort='deprecated',\n",
       "                                              random_state=42,\n",
       "                                              splitter='best'),\n",
       "             iid='deprecated', n_jobs=-1,\n",
       "             param_grid={'max_depth': [5, 10, 20, 50],\n",
       "                         'min_samples_leaf': [10, 20, 50, 100]},\n",
       "             pre_dispatch='2*n_jobs', refit=True, return_train_score=False,\n",
       "             scoring='recall', verbose=1)"
      ]
     },
     "execution_count": 38,
     "metadata": {},
     "output_type": "execute_result"
    }
   ],
   "source": [
    "%%time\n",
    "grid_search.fit(X_train, y_train)"
   ]
  },
  {
   "cell_type": "code",
   "execution_count": 39,
   "id": "dab1936c",
   "metadata": {},
   "outputs": [
    {
     "data": {
      "text/plain": [
       "DecisionTreeClassifier(ccp_alpha=0.0, class_weight='balanced', criterion='gini',\n",
       "                       max_depth=5, max_features=None, max_leaf_nodes=None,\n",
       "                       min_impurity_decrease=0.0, min_impurity_split=None,\n",
       "                       min_samples_leaf=50, min_samples_split=2,\n",
       "                       min_weight_fraction_leaf=0.0, presort='deprecated',\n",
       "                       random_state=42, splitter='best')"
      ]
     },
     "execution_count": 39,
     "metadata": {},
     "output_type": "execute_result"
    }
   ],
   "source": [
    "grid_search.best_estimator_"
   ]
  },
  {
   "cell_type": "code",
   "execution_count": 40,
   "id": "49cb59e9",
   "metadata": {},
   "outputs": [],
   "source": [
    "dt_best = grid_search.best_estimator_"
   ]
  },
  {
   "cell_type": "markdown",
   "id": "f335e32d",
   "metadata": {},
   "source": [
    "#### Train set prediction :: DT"
   ]
  },
  {
   "cell_type": "code",
   "execution_count": 41,
   "id": "00047517",
   "metadata": {
    "scrolled": true
   },
   "outputs": [
    {
     "data": {
      "text/html": [
       "<div>\n",
       "<style scoped>\n",
       "    .dataframe tbody tr th:only-of-type {\n",
       "        vertical-align: middle;\n",
       "    }\n",
       "\n",
       "    .dataframe tbody tr th {\n",
       "        vertical-align: top;\n",
       "    }\n",
       "\n",
       "    .dataframe thead th {\n",
       "        text-align: right;\n",
       "    }\n",
       "</style>\n",
       "<table border=\"1\" class=\"dataframe\">\n",
       "  <thead>\n",
       "    <tr style=\"text-align: right;\">\n",
       "      <th></th>\n",
       "      <th>Fraud</th>\n",
       "      <th>Predicted</th>\n",
       "    </tr>\n",
       "  </thead>\n",
       "  <tbody>\n",
       "    <tr>\n",
       "      <th>0</th>\n",
       "      <td>0</td>\n",
       "      <td>1</td>\n",
       "    </tr>\n",
       "    <tr>\n",
       "      <th>1</th>\n",
       "      <td>0</td>\n",
       "      <td>0</td>\n",
       "    </tr>\n",
       "    <tr>\n",
       "      <th>2</th>\n",
       "      <td>0</td>\n",
       "      <td>0</td>\n",
       "    </tr>\n",
       "    <tr>\n",
       "      <th>3</th>\n",
       "      <td>0</td>\n",
       "      <td>0</td>\n",
       "    </tr>\n",
       "    <tr>\n",
       "      <th>4</th>\n",
       "      <td>0</td>\n",
       "      <td>0</td>\n",
       "    </tr>\n",
       "    <tr>\n",
       "      <th>...</th>\n",
       "      <td>...</td>\n",
       "      <td>...</td>\n",
       "    </tr>\n",
       "    <tr>\n",
       "      <th>7694</th>\n",
       "      <td>0</td>\n",
       "      <td>1</td>\n",
       "    </tr>\n",
       "    <tr>\n",
       "      <th>7695</th>\n",
       "      <td>0</td>\n",
       "      <td>0</td>\n",
       "    </tr>\n",
       "    <tr>\n",
       "      <th>7696</th>\n",
       "      <td>0</td>\n",
       "      <td>0</td>\n",
       "    </tr>\n",
       "    <tr>\n",
       "      <th>7697</th>\n",
       "      <td>0</td>\n",
       "      <td>0</td>\n",
       "    </tr>\n",
       "    <tr>\n",
       "      <th>7698</th>\n",
       "      <td>0</td>\n",
       "      <td>0</td>\n",
       "    </tr>\n",
       "  </tbody>\n",
       "</table>\n",
       "<p>7699 rows × 2 columns</p>\n",
       "</div>"
      ],
      "text/plain": [
       "      Fraud  Predicted\n",
       "0         0          1\n",
       "1         0          0\n",
       "2         0          0\n",
       "3         0          0\n",
       "4         0          0\n",
       "...     ...        ...\n",
       "7694      0          1\n",
       "7695      0          0\n",
       "7696      0          0\n",
       "7697      0          0\n",
       "7698      0          0\n",
       "\n",
       "[7699 rows x 2 columns]"
      ]
     },
     "execution_count": 41,
     "metadata": {},
     "output_type": "execute_result"
    }
   ],
   "source": [
    "y_train_pred = dt_best.predict(X_train)\n",
    "y_train_pred_final = pd.DataFrame({'Fraud':y_train.values, 'Predicted':y_train_pred})\n",
    "y_train_pred_final"
   ]
  },
  {
   "cell_type": "code",
   "execution_count": 42,
   "id": "b190d990",
   "metadata": {},
   "outputs": [
    {
     "name": "stdout",
     "output_type": "stream",
     "text": [
      "Sensitivity: 1.0\n",
      "Accuracy   : 0.9270035069489544\n"
     ]
    }
   ],
   "source": [
    "# Confusion matrix\n",
    "confusion = metrics.confusion_matrix(y_train_pred_final.Fraud, y_train_pred_final.Predicted)\n",
    "\n",
    "TP = confusion[1,1] # true positive \n",
    "TN = confusion[0,0] # true negatives\n",
    "FP = confusion[0,1] # false positives\n",
    "FN = confusion[1,0] # false negatives\n",
    "\n",
    "# Sensitivity and Accuracy Metrics\n",
    "print(\"Sensitivity: \" + str(TP / float(TP+FN)))\n",
    "print(\"Accuracy   : \" + str(float(TP + TN) / float(TP + TN + FP + FN)))"
   ]
  },
  {
   "cell_type": "code",
   "execution_count": 43,
   "id": "5fe2fa25",
   "metadata": {},
   "outputs": [
    {
     "name": "stdout",
     "output_type": "stream",
     "text": [
      "[[7109  562]\n",
      " [   0   28]]\n"
     ]
    }
   ],
   "source": [
    "print(confusion)"
   ]
  },
  {
   "cell_type": "markdown",
   "id": "559fc9e9",
   "metadata": {},
   "source": [
    "#### Test set prediction :: DT"
   ]
  },
  {
   "cell_type": "code",
   "execution_count": 44,
   "id": "1e236313",
   "metadata": {},
   "outputs": [],
   "source": [
    "y_test_pred = dt_best.predict(X_test)\n"
   ]
  },
  {
   "cell_type": "code",
   "execution_count": 45,
   "id": "3c43b6f2",
   "metadata": {},
   "outputs": [],
   "source": [
    "y_test_pred_final = pd.DataFrame({'Fraud':y_test.values, 'Predicted':y_test_pred})"
   ]
  },
  {
   "cell_type": "code",
   "execution_count": 46,
   "id": "698400dd",
   "metadata": {},
   "outputs": [
    {
     "name": "stdout",
     "output_type": "stream",
     "text": [
      "Sensitivity: 0.7222222222222222\n",
      "Accuracy   : 0.9221212121212121\n"
     ]
    }
   ],
   "source": [
    "# Confusion matrix\n",
    "confusion = metrics.confusion_matrix(y_test_pred_final.Fraud, y_test_pred_final.Predicted)\n",
    "\n",
    "TP = confusion[1,1] # true positive \n",
    "TN = confusion[0,0] # true negatives\n",
    "FP = confusion[0,1] # false positives\n",
    "FN = confusion[1,0] # false negatives\n",
    "\n",
    "# Sensitivity and Accuracy Metrics\n",
    "print(\"Sensitivity: \" + str(TP / float(TP+FN)))\n",
    "print(\"Accuracy   : \" + str(float(TP + TN) / float(TP + TN + FP + FN)))"
   ]
  },
  {
   "cell_type": "code",
   "execution_count": 47,
   "id": "7b72d0c4",
   "metadata": {
    "scrolled": true
   },
   "outputs": [
    {
     "name": "stdout",
     "output_type": "stream",
     "text": [
      "[[3030  252]\n",
      " [   5   13]]\n"
     ]
    }
   ],
   "source": [
    "print(confusion)"
   ]
  },
  {
   "cell_type": "markdown",
   "id": "a7976052",
   "metadata": {},
   "source": [
    "As we can see there is a drastic improvement in the sensitivity of the model, 72 percent is a decent score"
   ]
  },
  {
   "cell_type": "code",
   "execution_count": 48,
   "id": "e9e9b060",
   "metadata": {
    "scrolled": true
   },
   "outputs": [
    {
     "data": {
      "text/plain": [
       "array([[1., 0.],\n",
       "       [1., 0.],\n",
       "       [1., 0.],\n",
       "       ...,\n",
       "       [1., 0.],\n",
       "       [1., 0.],\n",
       "       [1., 0.]])"
      ]
     },
     "execution_count": 48,
     "metadata": {},
     "output_type": "execute_result"
    }
   ],
   "source": [
    "y_test_pred_percent = dt_best.predict_proba(X_test)\n",
    "y_test_pred_percent"
   ]
  },
  {
   "cell_type": "markdown",
   "id": "08346cd2",
   "metadata": {},
   "source": [
    "## Random Forest Model"
   ]
  },
  {
   "cell_type": "code",
   "execution_count": 49,
   "id": "7c3eade0",
   "metadata": {},
   "outputs": [],
   "source": [
    "classifier_rf = RandomForestClassifier(random_state=42, n_jobs=-1, class_weight=\"balanced\")\n",
    "\n",
    "# Create the parameter grid based on the results of random search \n",
    "params = {\n",
    "    'max_depth': [2, 5, 10],\n",
    "    'min_samples_leaf': [50, 100, 200],\n",
    "    'max_features': [8, 10],\n",
    "    'n_estimators': [50, 100, 200]\n",
    "}"
   ]
  },
  {
   "cell_type": "code",
   "execution_count": 50,
   "id": "0ac10f3f",
   "metadata": {},
   "outputs": [],
   "source": [
    "# Instantiate the grid search model\n",
    "grid_search = GridSearchCV(estimator=classifier_rf, param_grid=params, \n",
    "                          cv=4, n_jobs=-1, verbose=1, scoring = \"accuracy\")"
   ]
  },
  {
   "cell_type": "code",
   "execution_count": 51,
   "id": "d1b6be25",
   "metadata": {},
   "outputs": [
    {
     "name": "stdout",
     "output_type": "stream",
     "text": [
      "Fitting 4 folds for each of 54 candidates, totalling 216 fits\n"
     ]
    },
    {
     "name": "stderr",
     "output_type": "stream",
     "text": [
      "[Parallel(n_jobs=-1)]: Using backend LokyBackend with 6 concurrent workers.\n",
      "[Parallel(n_jobs=-1)]: Done  38 tasks      | elapsed:    2.8s\n",
      "[Parallel(n_jobs=-1)]: Done 188 tasks      | elapsed:   15.5s\n",
      "[Parallel(n_jobs=-1)]: Done 216 out of 216 | elapsed:   18.2s finished\n"
     ]
    },
    {
     "name": "stdout",
     "output_type": "stream",
     "text": [
      "Wall time: 18.5 s\n"
     ]
    },
    {
     "data": {
      "text/plain": [
       "GridSearchCV(cv=4, error_score=nan,\n",
       "             estimator=RandomForestClassifier(bootstrap=True, ccp_alpha=0.0,\n",
       "                                              class_weight='balanced',\n",
       "                                              criterion='gini', max_depth=None,\n",
       "                                              max_features='auto',\n",
       "                                              max_leaf_nodes=None,\n",
       "                                              max_samples=None,\n",
       "                                              min_impurity_decrease=0.0,\n",
       "                                              min_impurity_split=None,\n",
       "                                              min_samples_leaf=1,\n",
       "                                              min_samples_split=2,\n",
       "                                              min_weight_fraction_leaf=0.0,\n",
       "                                              n_estimators=100, n_jobs=-1,\n",
       "                                              oob_score=False, random_state=42,\n",
       "                                              verbose=0, warm_start=False),\n",
       "             iid='deprecated', n_jobs=-1,\n",
       "             param_grid={'max_depth': [2, 5, 10], 'max_features': [8, 10],\n",
       "                         'min_samples_leaf': [50, 100, 200],\n",
       "                         'n_estimators': [50, 100, 200]},\n",
       "             pre_dispatch='2*n_jobs', refit=True, return_train_score=False,\n",
       "             scoring='accuracy', verbose=1)"
      ]
     },
     "execution_count": 51,
     "metadata": {},
     "output_type": "execute_result"
    }
   ],
   "source": [
    "%%time\n",
    "grid_search.fit(X_train,y_train)"
   ]
  },
  {
   "cell_type": "code",
   "execution_count": 52,
   "id": "5a6ba738",
   "metadata": {},
   "outputs": [
    {
     "data": {
      "text/plain": [
       "RandomForestClassifier(bootstrap=True, ccp_alpha=0.0, class_weight='balanced',\n",
       "                       criterion='gini', max_depth=10, max_features=8,\n",
       "                       max_leaf_nodes=None, max_samples=None,\n",
       "                       min_impurity_decrease=0.0, min_impurity_split=None,\n",
       "                       min_samples_leaf=50, min_samples_split=2,\n",
       "                       min_weight_fraction_leaf=0.0, n_estimators=100,\n",
       "                       n_jobs=-1, oob_score=False, random_state=42, verbose=0,\n",
       "                       warm_start=False)"
      ]
     },
     "execution_count": 52,
     "metadata": {},
     "output_type": "execute_result"
    }
   ],
   "source": [
    "rf_best = grid_search.best_estimator_\n",
    "rf_best"
   ]
  },
  {
   "cell_type": "markdown",
   "id": "c111fd59",
   "metadata": {},
   "source": [
    "#### Train set prediction :: RF"
   ]
  },
  {
   "cell_type": "code",
   "execution_count": 53,
   "id": "e147f000",
   "metadata": {},
   "outputs": [],
   "source": [
    "y_train_pred = rf_best.predict(X_train)\n",
    "y_train_pred_final = pd.DataFrame({'Fraud':y_train.values, 'Predicted':y_train_pred})"
   ]
  },
  {
   "cell_type": "code",
   "execution_count": 54,
   "id": "3f8b50ec",
   "metadata": {},
   "outputs": [
    {
     "name": "stdout",
     "output_type": "stream",
     "text": [
      "Sensitivity: 1.0\n",
      "Accuracy   : 0.9959735030523444\n"
     ]
    }
   ],
   "source": [
    "# Confusion matrix\n",
    "confusion = metrics.confusion_matrix(y_train_pred_final.Fraud, y_train_pred_final.Predicted)\n",
    "\n",
    "TP = confusion[1,1] # true positive \n",
    "TN = confusion[0,0] # true negatives\n",
    "FP = confusion[0,1] # false positives\n",
    "FN = confusion[1,0] # false negatives\n",
    "\n",
    "# Sensitivity and Accuracy Metrics\n",
    "print(\"Sensitivity: \" + str(TP / float(TP+FN)))\n",
    "print(\"Accuracy   : \" + str(float(TP + TN) / float(TP + TN + FP + FN)))"
   ]
  },
  {
   "cell_type": "code",
   "execution_count": 55,
   "id": "901ac150",
   "metadata": {},
   "outputs": [
    {
     "name": "stdout",
     "output_type": "stream",
     "text": [
      "[[7640   31]\n",
      " [   0   28]]\n"
     ]
    }
   ],
   "source": [
    "print(confusion)"
   ]
  },
  {
   "cell_type": "markdown",
   "id": "a65d9dce",
   "metadata": {},
   "source": [
    "#### Test set prediction :: RF"
   ]
  },
  {
   "cell_type": "code",
   "execution_count": 56,
   "id": "0f3dd7fc",
   "metadata": {},
   "outputs": [],
   "source": [
    "y_test_pred = rf_best.predict(X_test)\n",
    "y_test_pred_final = pd.DataFrame({'Fraud':y_test.values, 'Predicted':y_test_pred})"
   ]
  },
  {
   "cell_type": "code",
   "execution_count": 57,
   "id": "5726e6a9",
   "metadata": {},
   "outputs": [
    {
     "name": "stdout",
     "output_type": "stream",
     "text": [
      "Sensitivity: 0.5555555555555556\n",
      "Accuracy   : 0.9936363636363637\n"
     ]
    }
   ],
   "source": [
    "# Confusion matrix\n",
    "confusion = metrics.confusion_matrix(y_test_pred_final.Fraud, y_test_pred_final.Predicted)\n",
    "\n",
    "TP = confusion[1,1] # true positive \n",
    "TN = confusion[0,0] # true negatives\n",
    "FP = confusion[0,1] # false positives\n",
    "FN = confusion[1,0] # false negatives\n",
    "\n",
    "# Sensitivity and Accuracy Metrics\n",
    "print(\"Sensitivity: \" + str(TP / float(TP+FN)))\n",
    "print(\"Accuracy   : \" + str(float(TP + TN) / float(TP + TN + FP + FN)))"
   ]
  },
  {
   "cell_type": "code",
   "execution_count": 58,
   "id": "6368de1a",
   "metadata": {
    "scrolled": true
   },
   "outputs": [
    {
     "name": "stdout",
     "output_type": "stream",
     "text": [
      "[[3269   13]\n",
      " [   8   10]]\n"
     ]
    }
   ],
   "source": [
    "print(confusion)"
   ]
  },
  {
   "cell_type": "markdown",
   "id": "b3502fee",
   "metadata": {},
   "source": [
    "The sensitivity has dropped to 56 percent, in case of the Decision Tree model it was 72 percent. The ley difference is we have handled the unbalanced dataset which has led to the increase in incorrect judgement of a few alerts as True Negative.\n",
    "\n",
    "Our key goal is to maximize the sepcificity as we do not want any suspicious alert to be marked as not suspicious.\n",
    "\n",
    "The solution to this is a valid dataset, the dataset which has been used in this model has been created using a randomizer tool and some manual addition."
   ]
  },
  {
   "cell_type": "code",
   "execution_count": 59,
   "id": "519ac23e",
   "metadata": {
    "scrolled": false
   },
   "outputs": [
    {
     "data": {
      "text/plain": [
       "array([[1.        , 0.        ],\n",
       "       [0.9771927 , 0.0228073 ],\n",
       "       [0.94772401, 0.05227599],\n",
       "       ...,\n",
       "       [1.        , 0.        ],\n",
       "       [0.74685203, 0.25314797],\n",
       "       [1.        , 0.        ]])"
      ]
     },
     "execution_count": 59,
     "metadata": {},
     "output_type": "execute_result"
    }
   ],
   "source": [
    "#Testing predict_proba\n",
    "y_test_pred_proba = rf_best.predict_proba(X_test)\n",
    "y_test_pred_proba\n",
    "#y_test_pred_proba_final = pd.DataFrame({'Fraud':y_test.values, 'Predicted':y_test_pred_proba})"
   ]
  },
  {
   "cell_type": "code",
   "execution_count": 60,
   "id": "cb0cd9c3",
   "metadata": {},
   "outputs": [],
   "source": [
    "y_test_pred_proba_final = pd.DataFrame({'Fraud':y_test.values, 'Fraud_Prob':y_test_pred_proba[:, 1].tolist()})"
   ]
  },
  {
   "cell_type": "code",
   "execution_count": 61,
   "id": "121d2cd2",
   "metadata": {},
   "outputs": [],
   "source": [
    "threshold=0.3"
   ]
  },
  {
   "cell_type": "code",
   "execution_count": 62,
   "id": "4b0925fd",
   "metadata": {},
   "outputs": [],
   "source": [
    "y_test_pred_proba_final['Predicted'] = y_test_pred_proba_final.Fraud_Prob.map(lambda x: 1 if x > threshold else 0)"
   ]
  },
  {
   "cell_type": "code",
   "execution_count": 63,
   "id": "dbea422e",
   "metadata": {
    "scrolled": true
   },
   "outputs": [
    {
     "data": {
      "text/html": [
       "<div>\n",
       "<style scoped>\n",
       "    .dataframe tbody tr th:only-of-type {\n",
       "        vertical-align: middle;\n",
       "    }\n",
       "\n",
       "    .dataframe tbody tr th {\n",
       "        vertical-align: top;\n",
       "    }\n",
       "\n",
       "    .dataframe thead th {\n",
       "        text-align: right;\n",
       "    }\n",
       "</style>\n",
       "<table border=\"1\" class=\"dataframe\">\n",
       "  <thead>\n",
       "    <tr style=\"text-align: right;\">\n",
       "      <th></th>\n",
       "      <th>Fraud</th>\n",
       "      <th>Fraud_Prob</th>\n",
       "      <th>Predicted</th>\n",
       "    </tr>\n",
       "  </thead>\n",
       "  <tbody>\n",
       "    <tr>\n",
       "      <th>0</th>\n",
       "      <td>0</td>\n",
       "      <td>0.000000</td>\n",
       "      <td>0</td>\n",
       "    </tr>\n",
       "    <tr>\n",
       "      <th>1</th>\n",
       "      <td>0</td>\n",
       "      <td>0.022807</td>\n",
       "      <td>0</td>\n",
       "    </tr>\n",
       "    <tr>\n",
       "      <th>2</th>\n",
       "      <td>0</td>\n",
       "      <td>0.052276</td>\n",
       "      <td>0</td>\n",
       "    </tr>\n",
       "    <tr>\n",
       "      <th>3</th>\n",
       "      <td>0</td>\n",
       "      <td>0.000000</td>\n",
       "      <td>0</td>\n",
       "    </tr>\n",
       "    <tr>\n",
       "      <th>4</th>\n",
       "      <td>0</td>\n",
       "      <td>0.000000</td>\n",
       "      <td>0</td>\n",
       "    </tr>\n",
       "    <tr>\n",
       "      <th>...</th>\n",
       "      <td>...</td>\n",
       "      <td>...</td>\n",
       "      <td>...</td>\n",
       "    </tr>\n",
       "    <tr>\n",
       "      <th>3295</th>\n",
       "      <td>0</td>\n",
       "      <td>0.000000</td>\n",
       "      <td>0</td>\n",
       "    </tr>\n",
       "    <tr>\n",
       "      <th>3296</th>\n",
       "      <td>0</td>\n",
       "      <td>0.000000</td>\n",
       "      <td>0</td>\n",
       "    </tr>\n",
       "    <tr>\n",
       "      <th>3297</th>\n",
       "      <td>0</td>\n",
       "      <td>0.000000</td>\n",
       "      <td>0</td>\n",
       "    </tr>\n",
       "    <tr>\n",
       "      <th>3298</th>\n",
       "      <td>0</td>\n",
       "      <td>0.253148</td>\n",
       "      <td>0</td>\n",
       "    </tr>\n",
       "    <tr>\n",
       "      <th>3299</th>\n",
       "      <td>0</td>\n",
       "      <td>0.000000</td>\n",
       "      <td>0</td>\n",
       "    </tr>\n",
       "  </tbody>\n",
       "</table>\n",
       "<p>3300 rows × 3 columns</p>\n",
       "</div>"
      ],
      "text/plain": [
       "      Fraud  Fraud_Prob  Predicted\n",
       "0         0    0.000000          0\n",
       "1         0    0.022807          0\n",
       "2         0    0.052276          0\n",
       "3         0    0.000000          0\n",
       "4         0    0.000000          0\n",
       "...     ...         ...        ...\n",
       "3295      0    0.000000          0\n",
       "3296      0    0.000000          0\n",
       "3297      0    0.000000          0\n",
       "3298      0    0.253148          0\n",
       "3299      0    0.000000          0\n",
       "\n",
       "[3300 rows x 3 columns]"
      ]
     },
     "execution_count": 63,
     "metadata": {},
     "output_type": "execute_result"
    }
   ],
   "source": [
    "y_test_pred_proba_final"
   ]
  },
  {
   "cell_type": "code",
   "execution_count": 64,
   "id": "b5c9a928",
   "metadata": {},
   "outputs": [
    {
     "name": "stdout",
     "output_type": "stream",
     "text": [
      "Sensitivity: 0.9444444444444444\n",
      "Accuracy   : 0.9733333333333334\n"
     ]
    }
   ],
   "source": [
    "# Confusion matrix\n",
    "confusion = metrics.confusion_matrix(y_test_pred_proba_final.Fraud, y_test_pred_proba_final.Predicted)\n",
    "\n",
    "TP = confusion[1,1] # true positive \n",
    "TN = confusion[0,0] # true negatives\n",
    "FP = confusion[0,1] # false positives\n",
    "FN = confusion[1,0] # false negatives\n",
    "\n",
    "# Sensitivity and Accuracy Metrics\n",
    "print(\"Sensitivity: \" + str(TP / float(TP+FN)))\n",
    "print(\"Accuracy   : \" + str(float(TP + TN) / float(TP + TN + FP + FN)))"
   ]
  },
  {
   "cell_type": "code",
   "execution_count": 68,
   "id": "21c69ea9",
   "metadata": {},
   "outputs": [
    {
     "name": "stdout",
     "output_type": "stream",
     "text": [
      "[[3195   87]\n",
      " [   1   17]]\n"
     ]
    }
   ],
   "source": [
    "print(confusion)"
   ]
  },
  {
   "cell_type": "markdown",
   "id": "8bdcae04",
   "metadata": {},
   "source": [
    "### Feature Importance "
   ]
  },
  {
   "cell_type": "code",
   "execution_count": 65,
   "id": "e6bb0b51",
   "metadata": {},
   "outputs": [
    {
     "data": {
      "text/plain": [
       "array([0.06711969, 0.54624887, 0.09115846, 0.        , 0.00568566,\n",
       "       0.01009209, 0.        , 0.        , 0.0121942 , 0.00615541,\n",
       "       0.15096058, 0.00674629, 0.0084929 , 0.01729855, 0.02522191,\n",
       "       0.01752025, 0.00458978, 0.01009017, 0.02042518])"
      ]
     },
     "execution_count": 65,
     "metadata": {},
     "output_type": "execute_result"
    }
   ],
   "source": [
    "rf_best.feature_importances_"
   ]
  },
  {
   "cell_type": "code",
   "execution_count": 66,
   "id": "137b99ee",
   "metadata": {
    "scrolled": false
   },
   "outputs": [
    {
     "data": {
      "text/html": [
       "<div>\n",
       "<style scoped>\n",
       "    .dataframe tbody tr th:only-of-type {\n",
       "        vertical-align: middle;\n",
       "    }\n",
       "\n",
       "    .dataframe tbody tr th {\n",
       "        vertical-align: top;\n",
       "    }\n",
       "\n",
       "    .dataframe thead th {\n",
       "        text-align: right;\n",
       "    }\n",
       "</style>\n",
       "<table border=\"1\" class=\"dataframe\">\n",
       "  <thead>\n",
       "    <tr style=\"text-align: right;\">\n",
       "      <th></th>\n",
       "      <th>Varname</th>\n",
       "      <th>Imp</th>\n",
       "    </tr>\n",
       "  </thead>\n",
       "  <tbody>\n",
       "    <tr>\n",
       "      <th>1</th>\n",
       "      <td>Last_Name</td>\n",
       "      <td>0.546249</td>\n",
       "    </tr>\n",
       "    <tr>\n",
       "      <th>10</th>\n",
       "      <td>YY</td>\n",
       "      <td>0.150961</td>\n",
       "    </tr>\n",
       "    <tr>\n",
       "      <th>2</th>\n",
       "      <td>Customer_Type</td>\n",
       "      <td>0.091158</td>\n",
       "    </tr>\n",
       "    <tr>\n",
       "      <th>0</th>\n",
       "      <td>First_Name</td>\n",
       "      <td>0.067120</td>\n",
       "    </tr>\n",
       "    <tr>\n",
       "      <th>14</th>\n",
       "      <td>DDe</td>\n",
       "      <td>0.025222</td>\n",
       "    </tr>\n",
       "    <tr>\n",
       "      <th>18</th>\n",
       "      <td>COO</td>\n",
       "      <td>0.020425</td>\n",
       "    </tr>\n",
       "    <tr>\n",
       "      <th>15</th>\n",
       "      <td>MMe</td>\n",
       "      <td>0.017520</td>\n",
       "    </tr>\n",
       "    <tr>\n",
       "      <th>13</th>\n",
       "      <td>YYj</td>\n",
       "      <td>0.017299</td>\n",
       "    </tr>\n",
       "    <tr>\n",
       "      <th>8</th>\n",
       "      <td>DD</td>\n",
       "      <td>0.012194</td>\n",
       "    </tr>\n",
       "    <tr>\n",
       "      <th>5</th>\n",
       "      <td>Martial_Status</td>\n",
       "      <td>0.010092</td>\n",
       "    </tr>\n",
       "    <tr>\n",
       "      <th>17</th>\n",
       "      <td>COR</td>\n",
       "      <td>0.010090</td>\n",
       "    </tr>\n",
       "    <tr>\n",
       "      <th>12</th>\n",
       "      <td>MMj</td>\n",
       "      <td>0.008493</td>\n",
       "    </tr>\n",
       "    <tr>\n",
       "      <th>11</th>\n",
       "      <td>DDj</td>\n",
       "      <td>0.006746</td>\n",
       "    </tr>\n",
       "    <tr>\n",
       "      <th>9</th>\n",
       "      <td>MM</td>\n",
       "      <td>0.006155</td>\n",
       "    </tr>\n",
       "    <tr>\n",
       "      <th>4</th>\n",
       "      <td>Gender</td>\n",
       "      <td>0.005686</td>\n",
       "    </tr>\n",
       "    <tr>\n",
       "      <th>16</th>\n",
       "      <td>YYe</td>\n",
       "      <td>0.004590</td>\n",
       "    </tr>\n",
       "    <tr>\n",
       "      <th>6</th>\n",
       "      <td>PEP_Flag</td>\n",
       "      <td>0.000000</td>\n",
       "    </tr>\n",
       "    <tr>\n",
       "      <th>7</th>\n",
       "      <td>CTF_Flag</td>\n",
       "      <td>0.000000</td>\n",
       "    </tr>\n",
       "    <tr>\n",
       "      <th>3</th>\n",
       "      <td>Deceased_Flag</td>\n",
       "      <td>0.000000</td>\n",
       "    </tr>\n",
       "  </tbody>\n",
       "</table>\n",
       "</div>"
      ],
      "text/plain": [
       "           Varname       Imp\n",
       "1        Last_Name  0.546249\n",
       "10              YY  0.150961\n",
       "2    Customer_Type  0.091158\n",
       "0       First_Name  0.067120\n",
       "14             DDe  0.025222\n",
       "18             COO  0.020425\n",
       "15             MMe  0.017520\n",
       "13             YYj  0.017299\n",
       "8               DD  0.012194\n",
       "5   Martial_Status  0.010092\n",
       "17             COR  0.010090\n",
       "12             MMj  0.008493\n",
       "11             DDj  0.006746\n",
       "9               MM  0.006155\n",
       "4           Gender  0.005686\n",
       "16             YYe  0.004590\n",
       "6         PEP_Flag  0.000000\n",
       "7         CTF_Flag  0.000000\n",
       "3    Deceased_Flag  0.000000"
      ]
     },
     "execution_count": 66,
     "metadata": {},
     "output_type": "execute_result"
    }
   ],
   "source": [
    "X_train_columns = X_train.columns\n",
    "imp_df = pd.DataFrame({\n",
    "    \"Varname\": X_train_columns,\n",
    "    \"Imp\": rf_best.feature_importances_\n",
    "})\n",
    "imp_df.sort_values(by=\"Imp\", ascending=False)"
   ]
  },
  {
   "cell_type": "code",
   "execution_count": 67,
   "id": "8d520004",
   "metadata": {},
   "outputs": [
    {
     "data": {
      "text/plain": [
       "['./country_of_residence.joblib']"
      ]
     },
     "execution_count": 67,
     "metadata": {},
     "output_type": "execute_result"
    }
   ],
   "source": [
    "import joblib\n",
    "joblib.dump(rf_best,'./model.joblib', compress=True)\n",
    "joblib.dump(wi_fn,'./first_name.joblib', compress=True)\n",
    "joblib.dump(wi_ln,'./last_name.joblib', compress=True)\n",
    "joblib.dump(wi_coo,'./country_of_origin.joblib', compress=True)\n",
    "joblib.dump(wi_cor,'./country_of_residence.joblib', compress=True)"
   ]
  }
 ],
 "metadata": {
  "kernelspec": {
   "display_name": "Python 3",
   "language": "python",
   "name": "python3"
  },
  "language_info": {
   "codemirror_mode": {
    "name": "ipython",
    "version": 3
   },
   "file_extension": ".py",
   "mimetype": "text/x-python",
   "name": "python",
   "nbconvert_exporter": "python",
   "pygments_lexer": "ipython3",
   "version": "3.8.8"
  }
 },
 "nbformat": 4,
 "nbformat_minor": 5
}
